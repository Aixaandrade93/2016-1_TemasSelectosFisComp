{
 "cells": [
  {
   "cell_type": "markdown",
   "metadata": {},
   "source": [
    "### Ejercicio 1\n",
    "\n",
    "En clase vimos que la función `bits` permite ver la representación binaria de números de punto flotante (`Float64`) o de enteros (e.g., `Int64`). En particular, para números de punto flotante, el primer bit es el signo, los siguiente 11 son el *exponente* y el resto es la representación binaria (sin el 1 del principio), del número en cuestión.\n",
    "\n",
    "La pregunta es ¿qué significa el exponente?\n",
    "\n",
    "```julia\n",
    "bits(0.1)\n",
    "\"0111111111110000000000000000000000000000000000000000000000000000\"\n",
    "```"
   ]
  },
  {
   "cell_type": "code",
   "execution_count": 31,
   "metadata": {
    "collapsed": false
   },
   "outputs": [
    {
     "data": {
      "text/plain": [
       "\"0011111110111001100110011001100110011001100110011001100110011010\""
      ]
     },
     "execution_count": 31,
     "metadata": {},
     "output_type": "execute_result"
    }
   ],
   "source": [
    "bits(0.1)"
   ]
  },
  {
   "cell_type": "markdown",
   "metadata": {},
   "source": [
    "la potencia de $2^n$ tal que $n \\in \\mathbb{Z}$ sea una expansión en terminos de potencias de 2 del número en cuestion. Es como la notación científica en base 10, sólo que ahor es en base 2, y hacemos la expansión no en términos de $10^n$ sino que en 2, por ejemplo en base 10, para representar el número $1/3$ tenemos la suma\n",
    "$$\n",
    "1/3 = \\sum_{n=1}^{\\infty} 3 \\cdot 10^{-n} = 0.333333333\\dots\n",
    "$$\n",
    "pero la computadora no puede ententer este tipo de expansiones, ya que no entiende de números recursivos, si nos pasamos a base 2"
   ]
  },
  {
   "cell_type": "code",
   "execution_count": 34,
   "metadata": {
    "collapsed": false
   },
   "outputs": [
    {
     "data": {
      "text/plain": [
       "\"0011111111010101010101010101010101010101010101010101010101010101\""
      ]
     },
     "execution_count": 34,
     "metadata": {},
     "output_type": "execute_result"
    }
   ],
   "source": [
    "bits(1/3)"
   ]
  },
  {
   "cell_type": "markdown",
   "metadata": {},
   "source": [
    "También sucede que aparece un número recursivo, los primeros 11 números significan el valor de $n$ en la expansión en base 2, tal que el número se pueda expresar lo más cercanamente posible al número real, pero hay que recordar que hay un error por truncamiento, ya que la serie no puede ser infinita."
   ]
  },
  {
   "cell_type": "markdown",
   "metadata": {},
   "source": [
    "Las consultas rápidas que hice para entender lo que sucedía:\n",
    "\n",
    "\n",
    "https://youtu.be/PZRI1IfStY0 (Estoy suscrito)\n",
    "\n",
    "\n",
    "https://en.wikipedia.org/wiki/Double-precision_floating-point_format (Soy honesto)"
   ]
  },
  {
   "cell_type": "markdown",
   "metadata": {},
   "source": [
    "### Ejercicio 2\n",
    "\n",
    "- ¿Cuál es el número más chico que sumado (o restado) a 1.0 me da algo distinto de 1.0?\n",
    "(Este número se bautiza como el \"épsilon de la máquina\")\n",
    "\n",
    "- ¿Cuál es el número más chico que sumado (o restado) a 10.0 me da algo distinto de 10.0?\n"
   ]
  },
  {
   "cell_type": "markdown",
   "metadata": {},
   "source": [
    "     La primera pregunta\n",
    "     \n",
    "Lo pienso alreves, va evaluando las potencias de 10 desde -1000 hasta 0, en pasos de 0.00001, cuando la diferencia a es distinta a 1, le mando a imprimir el valor de la épsilon que es 10 a la potencia donde se detuvo y luego le digo que me imprima la potencia en donde se detuvo, es decir el número de índice dónde se quedó.\n",
    "     \n",
    "     La segunda pregunta\n",
    "     \n",
    "Hago lo mismo que en la primera sólo varío en donde corresponda, el 10 en la seguda línea y en el agumento del if.\n",
    "\n",
    "Lo que noté es que la $\\epsilon$ se va refinando conforme el paso se va haciendo más chico, aunque no cambia el orden de magnitud de la misma.\n",
    "\n",
    "En estos ejercicios quizá deban perdonar mis códigos, estoy un poco oxidado en julia."
   ]
  },
  {
   "cell_type": "code",
   "execution_count": 35,
   "metadata": {
    "collapsed": false
   },
   "outputs": [
    {
     "name": "stdout",
     "output_type": "stream",
     "text": [
      "5.55123995085631e-17\n",
      "983.74439\n"
     ]
    }
   ],
   "source": [
    "for i in 0:0.00001:1000   #First question\n",
    "    a= 1.0-10.0^(-1000+i) #Veo qué le hace un número lo suficientente pequeño al ser restado de 1\n",
    "    if(a != 1.0)  #Si le hizo algo, ie. identifica al resultado distinto de uno\n",
    "        println(10.0^(-1000+i))  #imprime el valor que hizo el cambio\n",
    "        println(i)  #e imprime el valor del índice al cual se dió el cambio.\n",
    "        break\n",
    "    end\n",
    "end"
   ]
  },
  {
   "cell_type": "code",
   "execution_count": 36,
   "metadata": {
    "collapsed": false
   },
   "outputs": [
    {
     "name": "stdout",
     "output_type": "stream",
     "text": [
      "8.88198427608497e-16\n",
      "984.94851\n"
     ]
    }
   ],
   "source": [
    "for i in 0:0.00001:1000 #Second question\n",
    "    a= 10.0-10.0^(-1000+i)  #lo mismo que el ejercicio anterior, solo que ahora se le resta a 10 en vez de a 1.\n",
    "    if(a != 10.0)\n",
    "        println(10.0^(-1000+i))\n",
    "        println(i)\n",
    "        break\n",
    "    end\n",
    "end"
   ]
  },
  {
   "cell_type": "markdown",
   "metadata": {},
   "source": [
    "### Ejercicio 3\n",
    "\n",
    "Define una functión llamada `derivada1` que implemente el cálculo de:\n",
    "\n",
    "$$\n",
    "\\frac{\\Delta f(x)}{\\Delta x}(x_0) = \\frac{f(x_0+h)-f(x_0)}{h}\n",
    "$$\n",
    "\n",
    "Obviamente esta función es una aproximación *finita* de la derivada. La pregunta es ¿qué tan buena es esta aproximación, pensando en términos de $h$?\n",
    "\n",
    "- La primer sub-pregunta es ¿cómo se responde este tipo de pregunta?\n",
    "- Uno tiene que tomar un caso concreto (para $f(x_0,h)$); sugiero empezar con un polinomio con coeficientes enteros, y después hacer el mismo tipo de pruebas con una función trascendental.\n",
    "- ¿Hay algo *sorprendente* en el comportamiento de `derivada1` como función de $h$? ¿A qué lo puedes atribuir?\n",
    "- ¿Puedes hacer que la función `derivada1` funcione para funciones más o menos arbitrarias, que el usuario define?\n",
    "- ¿Puedes explicar de alguna manera los resultados que has obtenido?"
   ]
  },
  {
   "cell_type": "markdown",
   "metadata": {},
   "source": [
    "Reordenando la expresión de la derivada\n",
    "$$\n",
    "h \\frac{\\Delta f(x_o)}{\\Delta x} (x_o)+f(x_o)=f(x_o+h)\n",
    "$$\n",
    "si lo vemos como una expansión de Taylor en rededor de x_o, vemos que realmente\n",
    "$$\n",
    "h \\frac{\\Delta f(x_o)}{\\Delta x} (x_o)+f(x_o)=f(x_o+h)\n",
    "$$\n",
    "y los términos de error que nos volamos, ie. los términos subsecuentes de la serie son del orden de $h^2$, por lo que nuestro error es del orden de $h^2$.\n",
    "Por lo que vi en las gráficas de abajo, es que hay momentos en donde la presición es menor, incluso aun haciendo el paso más pequeño, es más si se hace demasiado pequeño, manda el valor de la derivada a cero, quizá sea por algún tipo de error de redondeo.\n",
    "\n",
    "lo que leí. Giordano, Nicholas J. & Nakanishi, Hisao. *Computational Physics*. Second Edition. Prearson Prentice Hall. 2006. pp 2-3"
   ]
  },
  {
   "cell_type": "code",
   "execution_count": 1,
   "metadata": {
    "collapsed": false
   },
   "outputs": [
    {
     "data": {
      "text/plain": [
       "derivada1 (generic function with 1 method)"
      ]
     },
     "execution_count": 1,
     "metadata": {},
     "output_type": "execute_result"
    }
   ],
   "source": [
    "function derivada1(funct, x0, h) #tiene como entradas una función, un valor de x y el tamaño del paso\n",
    "    (funct(x0+h)-funct(x0))/h\n",
    "end"
   ]
  },
  {
   "cell_type": "code",
   "execution_count": 2,
   "metadata": {
    "collapsed": false
   },
   "outputs": [
    {
     "data": {
      "text/plain": [
       "g (generic function with 1 method)"
      ]
     },
     "execution_count": 2,
     "metadata": {},
     "output_type": "execute_result"
    }
   ],
   "source": [
    "f(x) = x^2       #Aquí se pueden modificar las funciones a su antojo\n",
    "g(x) = 2x^5-6x^4+3.3x^3+1.1x^2+7x-12.1"
   ]
  },
  {
   "cell_type": "code",
   "execution_count": 28,
   "metadata": {
    "collapsed": false
   },
   "outputs": [
    {
     "data": {
      "text/plain": [
       "variah1 (generic function with 1 method)"
      ]
     },
     "execution_count": 28,
     "metadata": {},
     "output_type": "execute_result"
    }
   ],
   "source": [
    "function variah1(funct,x0) #como entradas una función y un valor de x\n",
    "    dat = zeros(100,2) #hago un arreglo de zeros de 2 columnas y 100 hileras\n",
    "    tam = length(dat[:,1]) #mido las hileras\n",
    "     \n",
    "    for i in 0:tam-1    #hago correr el índice para reasignar los valores de la primera columna a los valores de la \n",
    "        dat[i+1,1]=-i   #la potencia de 10 que le meto el paso, del más grande al más chico\n",
    "        dat[i+1,2]=derivada1(f,big(x0),10.0^-i) #lo hice así por que en el eje x si lo hacia directo con el tamaño del \n",
    "    end         #paso no se graficaba correctamente.\n",
    "    return dat\n",
    "end"
   ]
  },
  {
   "cell_type": "code",
   "execution_count": 29,
   "metadata": {
    "collapsed": false
   },
   "outputs": [],
   "source": [
    "using PyPlot #Mando a llamar el paquete de graficación PyPlot"
   ]
  },
  {
   "cell_type": "code",
   "execution_count": 43,
   "metadata": {
    "collapsed": false
   },
   "outputs": [
    {
     "data": {
      "image/png": "[encoded data removed]",
      "text/plain": [
       "Figure(PyObject <matplotlib.figure.Figure object at 0x7f42ac168208>)"
      ]
     },
     "metadata": {},
     "output_type": "display_data"
    },
    {
     "data": {
      "text/plain": [
       "PyObject <matplotlib.text.Text object at 0x7f429e392be0>"
      ]
     },
     "execution_count": 43,
     "metadata": {},
     "output_type": "execute_result"
    }
   ],
   "source": [
    "k = variah1(f,2.5);  #evaluo f' en x_o=2.5\n",
    "plot(k[:,1],k[:,2])  #grafico los valores.\n",
    "xlabel(\"potencia de 10 de h, 10^-i\")\n",
    "ylabel(\"f'\")"
   ]
  },
  {
   "cell_type": "code",
   "execution_count": 44,
   "metadata": {
    "collapsed": false
   },
   "outputs": [
    {
     "data": {
      "image/png": "[encoded data removed]",
      "text/plain": [
       "Figure(PyObject <matplotlib.figure.Figure object at 0x7f429f36dcc0>)"
      ]
     },
     "metadata": {},
     "output_type": "display_data"
    },
    {
     "data": {
      "text/plain": [
       "PyObject <matplotlib.text.Text object at 0x7f429e2f0fd0>"
      ]
     },
     "execution_count": 44,
     "metadata": {},
     "output_type": "execute_result"
    }
   ],
   "source": [
    "l=variah1(g,8) #evaluo g' en x=8\n",
    "plot(l[:,1],l[:,2])\n",
    "xlabel(\"potencia de 10 de h, 10^-i\")\n",
    "ylabel(\"g'\")"
   ]
  },
  {
   "cell_type": "markdown",
   "metadata": {},
   "source": [
    "### Ejercicio 4\n",
    "\n",
    "Este ejercicio es equivalente al anterior, pero considerando la función `derivada2` que implemente el cálculo de:\n",
    "\n",
    "$$\n",
    "\\frac{\\Delta f(x)}{\\Delta x}(x_0) = \\frac{f(x_0+h)-f(x_0-h)}{2h}\n",
    "$$\n",
    "\n",
    "¿Puedes explicar por qué la convergencia es mejor en este caso?\n",
    "\n",
    "Este término viene del promedio de la derivada en rededor de x_o, por lo que se espera que el cálculo sea más refinado al usar los valores que preceden y anteceden al punto x_o, si no mal recuerdo también hay una ventaja que proporciona el teorema del valor medio, en done el promedio de la derivada en cierto intervalo se puede sacar al hacer la cuenta con los valores extremos de dicho intervalo."
   ]
  },
  {
   "cell_type": "code",
   "execution_count": 9,
   "metadata": {
    "collapsed": false
   },
   "outputs": [
    {
     "data": {
      "text/plain": [
       "derivada2 (generic function with 1 method)"
      ]
     },
     "execution_count": 9,
     "metadata": {},
     "output_type": "execute_result"
    }
   ],
   "source": [
    "function derivada2(funct, x0, h)  #hago lo mismo que en el ejercicio anterior, solo cambio las operaciones necesarias.\n",
    "    (funct(x0+h)-funct(x0-h))/(2*h)\n",
    "end"
   ]
  },
  {
   "cell_type": "code",
   "execution_count": 37,
   "metadata": {
    "collapsed": false
   },
   "outputs": [
    {
     "data": {
      "text/plain": [
       "variah2 (generic function with 1 method)"
      ]
     },
     "execution_count": 37,
     "metadata": {},
     "output_type": "execute_result"
    }
   ],
   "source": [
    "function variah2(funct,x0)#es exactamente el código de arriba, salvo que ahora uso la nueva función derivada2\n",
    "    dat = zeros(100,2)\n",
    "    tam = length(dat[:,1])\n",
    "    \n",
    "    for i in 0:tam-1\n",
    "        dat[i+1,1]=-i\n",
    "        dat[i+1,2]=derivada2(f,big(x0),10.0^-i)\n",
    "    end\n",
    "    return dat\n",
    "end"
   ]
  },
  {
   "cell_type": "code",
   "execution_count": 38,
   "metadata": {
    "collapsed": false
   },
   "outputs": [],
   "source": [
    "m = variah2(f,2.5);\n",
    "n = variah2(g,8);"
   ]
  },
  {
   "cell_type": "code",
   "execution_count": 45,
   "metadata": {
    "collapsed": false
   },
   "outputs": [
    {
     "data": {
      "image/png": "[encoded data removed]",
      "text/plain": [
       "Figure(PyObject <matplotlib.figure.Figure object at 0x7f429e3ff630>)"
      ]
     },
     "metadata": {},
     "output_type": "display_data"
    },
    {
     "data": {
      "text/plain": [
       "PyObject <matplotlib.text.Text object at 0x7f429e256898>"
      ]
     },
     "execution_count": 45,
     "metadata": {},
     "output_type": "execute_result"
    }
   ],
   "source": [
    "plot(m[:,1],m[:,2])   #la gráfica para f\n",
    "xlabel(\"potencia de 10 de h, 10^-i\")\n",
    "ylabel(\"f'\")"
   ]
  },
  {
   "cell_type": "code",
   "execution_count": 46,
   "metadata": {
    "collapsed": false
   },
   "outputs": [
    {
     "data": {
      "image/png": "[encoded data removed]",
      "text/plain": [
       "Figure(PyObject <matplotlib.figure.Figure object at 0x7f429e259c50>)"
      ]
     },
     "metadata": {},
     "output_type": "display_data"
    },
    {
     "data": {
      "text/plain": [
       "PyObject <matplotlib.text.Text object at 0x7f429e239630>"
      ]
     },
     "execution_count": 46,
     "metadata": {},
     "output_type": "execute_result"
    }
   ],
   "source": [
    "plot(n[:,1],n[:,2]) #la gráfica para g\n",
    "xlabel(\"potencia de 10 de h, 10^-i\")\n",
    "ylabel(\"g'\")"
   ]
  },
  {
   "cell_type": "markdown",
   "metadata": {},
   "source": [
    "### Ejercicio 5\n",
    "\n",
    "Manda el notebook con tus resultados haciendo un pull-request al repositorio del curso. Para hacer esto:\n",
    "- Haz un `fork` del repositorio del curso a tu propia cuenta en GitHub\n",
    "- Una vez que tengas resuelto el notebook, súbelo a **tu** repositorio (con `git push`), en la carpeta \"tareas/usuario_github/nombre_notebook\"\n",
    "- Desde tu repositorio, haz un \"Pull Request\". El *pull request* sólo se aceptará si es legible en el sentido más amplio de la palabra y, obviamente, si es correcto. Esto significa que debe ser *entendible*, a partir de lo que ustedes escriben, incluso para gente que no está en el curso. (Como GitHub es público, piensen fríamente que esto puede ser leido por *muuucha* gente allá afuera.) Si el trabajo es en colaboración, háganlo saber en el propio notebook (cosa que se debe notar en el historial de lo que envíen). Finalmente, como código ético, incluyan cualquier fuente de inspiración, incluso cuando se trate del notebook de otro compañero/equipo del curso."
   ]
  },
  {
   "cell_type": "code",
   "execution_count": null,
   "metadata": {
    "collapsed": true
   },
   "outputs": [],
   "source": []
  }
 ],
 "metadata": {
  "kernelspec": {
   "display_name": "Julia 0.3.11",
   "language": "julia",
   "name": "julia-0.3"
  },
  "language_info": {
   "name": "julia",
   "version": "0.3.11"
  }
 },
 "nbformat": 4,
 "nbformat_minor": 0
}
