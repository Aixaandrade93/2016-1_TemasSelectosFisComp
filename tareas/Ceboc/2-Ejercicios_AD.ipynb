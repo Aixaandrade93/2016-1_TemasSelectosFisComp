{
 "cells": [
  {
   "cell_type": "markdown",
   "metadata": {},
   "source": [
    "## **César Bertoni Ocampo**"
   ]
  },
  {
   "cell_type": "code",
   "execution_count": null,
   "metadata": {
    "collapsed": false
   },
   "outputs": [],
   "source": [
    "using PyPlot"
   ]
  },
  {
   "cell_type": "markdown",
   "metadata": {},
   "source": [
    "### Ejercicio 1: El fractal de Newton\n",
    "\n",
    "(Ejercicio tomado de un curso de David P. Sanders)\n",
    "\n",
    "Este ejercicio tiene dos objetivos. Que implementen el método de Newton para una variable (real o compleja) para buscar ceros de una función $f(x)$ dando *también* su derivada, y que construyan un fractal usándolo.\n",
    "\n",
    "Recordemos primero qué es el método de Newton (o Newton-Raphson) en una variable, para encontrar las raíces (ceros) de una función no lineal $f(x)$. El método de Newton es un método iterativo definido por:\n",
    "\n",
    "$$\n",
    "x_{n+1}=x_n−\\frac{f(x_n)}{f′(x_n)},\n",
    "$$\n",
    "\n",
    "a partir de una *condición inicial* $x_0$ dada. (Cualquier libro de cálculo 1 es buena referencia para la construcción.) Lo importante es que $x_{n+1}$, se construye a partir del anterior, usando la función $f(x)$ (cuyas raíces queremos encontrar) y *también* su derivada $f'(x)$. \n",
    "\n",
    "El *teorema* dice que si $x_0$ está suficientemente cerca de $x^*$, donde $f(x^*)=0$, entonces $x_n \\to x^*$ cuando $n\\to\\infty$.\n",
    "\n",
    "1. Implementen una función para encontrar las raíces de una función arbitraria $f(x)$. En particular, consideren $f(x) = x^2 - 2$. (Para escribir $f'(x)$ con caracteres Unicode, simplemente escriba `f\\prime<TAB>`.) *HINT:* Como a priori no sabemos si la condición inicial conviene o no, vale la pena poner un tope superior al número de iteraciones del método de Newton.\n",
    "\n",
    "2. Usa el método de Newton para encontrar las raíces cúbicas de 1, o sea, $g(z) = z^3-1$. Empezando con una malla de condiciones iniciales $z_0$ (en el plano complejo), determina a donde converge cada condición inicial. Guarden los resultados en una matriz: $N_{i,j} = z_{end}(z_0)$, donde $(i,j)$ identifican el punto en la malla. (Algo importante es que en Julia las matrices se almacenan corriendo sobre los renglones, es decir, primero se almacena la primer columna, luego la segunda, etc. Saber esto puede hacer que logren hacer correr las cosas de manera *eficiente*.)\n",
    "\n",
    "3. Grafiquen los resultados usando `imshow`, `pcolor` y/o `pcolormesh` definidos en `PyPlot`; lean la documentación para ver cómo usar la instrucción que ustedes elijan.\n",
    "\n",
    "4. ¿Qué modificaciones puedes hacer para hacer ampliaciones? Haz un par de ejemplos. ¿Tiene sentido el uso de la palbra \"fractal\"?\n",
    "\n",
    "(Pueden experimentar también con otras funciones complejas, otros polinomios, o `sin`.)\n",
    "\n",
    "---"
   ]
  },
  {
   "cell_type": "code",
   "execution_count": null,
   "metadata": {
    "collapsed": false
   },
   "outputs": [],
   "source": [
    "function newton(f,d,x,k=1,p=50) #f es la función, d su derivada, x la adivinanza, k un contador y p lel número de iteraciones máximo\n",
    "        n = big(x) - f(x)/d(x) \n",
    "    if abs(f(x))<2e-10\n",
    "        n \n",
    "        elseif k>p #Corte en 50 iteraciones\n",
    "        n\n",
    "    else\n",
    "        k_nueva = k+1\n",
    "        newton(f,d,n,k_nueva) #La recursión\n",
    "    end\n",
    "end"
   ]
  },
  {
   "cell_type": "code",
   "execution_count": null,
   "metadata": {
    "collapsed": false
   },
   "outputs": [],
   "source": [
    "function matrizra(funcion,derivada,paso=2.0^-3, tamcaja=12.5,p=50) #tamcaja es la región [-tamcaja,tamcaja]x[tamcaja,tamcaja] en R² biyectiva al \n",
    "    #plano en los complejos correspondientes, es el rango de ploteo cuadrado, p la presición para newton\n",
    "    equis = [i for i in -tamcaja:paso:tamcaja] #Genero números complejos con arreglos donde z = equis + im*eyes\n",
    "    eyes = equis  #Para tener un arreglo cuadrado lo definio como las equis.\n",
    "    M = [complex(0*i) for i in -tamcaja:paso:tamcaja, i in -tamcaja:paso:tamcaja] #genero una matriz con entradas complejas\n",
    "    t=length(equis) #la cantidad de puntos por lado en la región de ploteo,\n",
    "\n",
    "    for k in 1:t\n",
    "        for l in 1:t\n",
    "            M[k,l]=newton(funcion,derivada,equis[l]+im*eyes[k],1,p) #cambio las entradas de la matriz por el valor de las raices en cada uno de los puntos del cuadrado\n",
    "        end\n",
    "    end\n",
    "    return(M) \n",
    "end "
   ]
  },
  {
   "cell_type": "code",
   "execution_count": null,
   "metadata": {
    "collapsed": false
   },
   "outputs": [],
   "source": [
    "f(x)=x^3-1 #La función que vamos a considerar\n",
    "d(x)=3x^2 #y su derivada\n",
    "U=matrizra(f,d); #Calculamos la matriz a calcular"
   ]
  },
  {
   "cell_type": "code",
   "execution_count": null,
   "metadata": {
    "collapsed": false
   },
   "outputs": [],
   "source": [
    "imshow(real(U))"
   ]
  },
  {
   "cell_type": "code",
   "execution_count": null,
   "metadata": {
    "collapsed": false
   },
   "outputs": [],
   "source": [
    "g(x)=4.0*x^5 - 3.0*x^3  + 20.0*x^2 - 3.0*x - 0.5\n",
    "dg(x)= 20.0*x^5 - 9.0*x^3 + 40.0*x - 3.0\n",
    "V = matrizra(g,dg);"
   ]
  },
  {
   "cell_type": "code",
   "execution_count": null,
   "metadata": {
    "collapsed": false
   },
   "outputs": [],
   "source": [
    "imshow(imag(V)+real(V))"
   ]
  },
  {
   "cell_type": "code",
   "execution_count": null,
   "metadata": {
    "collapsed": true
   },
   "outputs": [],
   "source": [
    "h(x)=sin(x)\n",
    "dh(x)=cos(x)\n",
    "W = matrizra(h,dh);"
   ]
  },
  {
   "cell_type": "code",
   "execution_count": null,
   "metadata": {
    "collapsed": false
   },
   "outputs": [],
   "source": [
    "imshow(abs(W))"
   ]
  },
  {
   "cell_type": "code",
   "execution_count": null,
   "metadata": {
    "collapsed": true
   },
   "outputs": [],
   "source": [
    "i(x)=sinh(x)\n",
    "di(x)=cosh(x)\n",
    "X = matrizra(h,dh);"
   ]
  },
  {
   "cell_type": "code",
   "execution_count": null,
   "metadata": {
    "collapsed": false
   },
   "outputs": [],
   "source": [
    "imshow(imag(X))"
   ]
  },
  {
   "cell_type": "markdown",
   "metadata": {},
   "source": [
    "### Ejercicio 2: Operadores como funciones\n",
    "\n",
    "- ¿Qué pasa si sumas dos cadenas (*strings*)?\n",
    "\n",
    "- ¿Qué pasa si multiplicas dos cadenas (*strings*)?\n",
    "\n",
    "- Contruye una función *específica* que sume dos cadenas\n",
    "\n",
    "---"
   ]
  },
  {
   "cell_type": "code",
   "execution_count": null,
   "metadata": {
    "collapsed": false
   },
   "outputs": [],
   "source": [
    "\"hola\"+\"perro\""
   ]
  },
  {
   "cell_type": "code",
   "execution_count": null,
   "metadata": {
    "collapsed": false
   },
   "outputs": [],
   "source": [
    "\"hola\"*\"perro\""
   ]
  },
  {
   "cell_type": "code",
   "execution_count": null,
   "metadata": {
    "collapsed": false
   },
   "outputs": [],
   "source": [
    "type Cadns{T<:String}\n",
    "    x :: T\n",
    "end"
   ]
  },
  {
   "cell_type": "code",
   "execution_count": null,
   "metadata": {
    "collapsed": false
   },
   "outputs": [],
   "source": [
    "import Base.+\n",
    "# ... y aquí se implementa la nueva función\n",
    "+(a::Cadns,b::Cadns) = Cadns( a.x * b.x )"
   ]
  },
  {
   "cell_type": "code",
   "execution_count": null,
   "metadata": {
    "collapsed": false
   },
   "outputs": [],
   "source": [
    "Cadns(\"hola\")+Cadns(\"perro\")"
   ]
  },
  {
   "cell_type": "code",
   "execution_count": null,
   "metadata": {
    "collapsed": false
   },
   "outputs": [],
   "source": [
    "function sumca(cadenas)\n",
    "    k=1\n",
    "    i = length(cadenas)\n",
    "    g = Cadns(\"\")\n",
    "    while k <= i\n",
    "        g += Cadns(cadenas[k])\n",
    "        k += 1\n",
    "    end\n",
    "    return g\n",
    "end"
   ]
  },
  {
   "cell_type": "code",
   "execution_count": null,
   "metadata": {
    "collapsed": false
   },
   "outputs": [],
   "source": [
    "c=(\"hola\",\"perro\",\"soy\",\"yo\",\"tu\",\"dueño\",\"al\",\"que\",\"mordiste\",\"ayer\")"
   ]
  },
  {
   "cell_type": "code",
   "execution_count": null,
   "metadata": {
    "collapsed": false
   },
   "outputs": [],
   "source": [
    "sumca(c)"
   ]
  },
  {
   "cell_type": "code",
   "execution_count": null,
   "metadata": {
    "collapsed": false
   },
   "outputs": [],
   "source": [
    "sumca((\"hola\",\"mundo\",\"¿\",\"Cómo\",\"andan?\"))"
   ]
  },
  {
   "cell_type": "code",
   "execution_count": null,
   "metadata": {
    "collapsed": false
   },
   "outputs": [],
   "source": [
    "sum((1,2,3)) "
   ]
  },
  {
   "cell_type": "markdown",
   "metadata": {},
   "source": [
    "El funcionamiento de sumca es semejante al se sum."
   ]
  },
  {
   "cell_type": "markdown",
   "metadata": {},
   "source": [
    "Si hacemos una función espefíca que sume sólo dos cadenas, hago lo siguiente. (Creo que esto lo debía hacer primero)"
   ]
  },
  {
   "cell_type": "code",
   "execution_count": null,
   "metadata": {
    "collapsed": false
   },
   "outputs": [],
   "source": [
    "function sumca2(cadena1, cadena2)\n",
    "    Cadns(cadena1)+ Cadns(cadena2)\n",
    "end"
   ]
  },
  {
   "cell_type": "code",
   "execution_count": null,
   "metadata": {
    "collapsed": false
   },
   "outputs": [],
   "source": [
    "sumca2(\"a\",\"b\")"
   ]
  },
  {
   "cell_type": "code",
   "execution_count": null,
   "metadata": {
    "collapsed": false
   },
   "outputs": [],
   "source": [
    "import Base.+\n",
    "# ... y aquí se implementa la nueva función\n",
    "+(a::String,b::String) = a * b"
   ]
  },
  {
   "cell_type": "code",
   "execution_count": null,
   "metadata": {
    "collapsed": false
   },
   "outputs": [],
   "source": [
    "\"hola\"+\"perro\""
   ]
  },
  {
   "cell_type": "markdown",
   "metadata": {
    "collapsed": true
   },
   "source": [
    "### Ejercicio 3: Diferenciación automática\n",
    "\n",
    "En clase vimos cómo definir estructuras \"tipo\" (*types*), y los conceptos básicos atrás de los `Duales` que sirven para implementar la diferenciación automática. \n",
    "\n",
    "El objetido de este ejercicio es que construyan un *módulo* que permita calcular primeras derivadas de manera más exacta que permita la computadora, o sea, que el error sea del orden del *epsilon* local de la máquina.\n",
    "\n",
    "1. Define el tipo (estructura) `Dual` que contenga dos campos, el valor de la función y el valor de su derivada. Haz que *ambos* campos tengan el mismo tipo de valor, y que ambos *tengan* que ser un subtipo de `Real`.\n",
    "\n",
    "- Define métodos para que el dual de un número (sólo *un* número) sea lo que uno espera, y una función `dual_var(x0)` que retorne un dual que represente a la variable *independiente* en `x0`.\n",
    "\n",
    "- Define métodos que sumen, resten, multipliquen y dividan duales, y números con duales. Incluye los casos (para duales) en que los operadores `+` y `-` actúan sólo sobre un `Dual`.\n",
    "\n",
    "- Incluye extensiones de las funciones elementales más usuales (`^`, `exp`, `log`, `sin`, `cos`, `sqrt`, etc).\n",
    "\n",
    "- Muestra que el error numérico de lo que has hecho es esencialmente el epsilon de la máquina. Para esto define alguna función $f(x)$ y aplícala sobre `x = dual_var(x0)`, y muestra que el error es del orden del epsilon de la máquina al rededor del valor verdadero de la derivada.\n",
    "\n",
    "- Acompaña tu módulo de un archivo \"runtest.jl\" donde haya casos (no triviales) que permitan verificar que tu módulo hace las cosas correctamente.\n",
    "\n",
    "- Extiende la función para el método de Newton para que funcione sólo dando la función, y que la derivada la obtenga usando las herramientas del módulo.\n",
    "\n",
    "\n",
    "---"
   ]
  }
 ],
 "metadata": {
  "kernelspec": {
   "display_name": "Julia 0.3.11",
   "language": "julia",
   "name": "julia-0.3"
  },
  "language_info": {
   "name": "julia",
   "version": "0.3.11"
  }
 },
 "nbformat": 4,
 "nbformat_minor": 0
}
