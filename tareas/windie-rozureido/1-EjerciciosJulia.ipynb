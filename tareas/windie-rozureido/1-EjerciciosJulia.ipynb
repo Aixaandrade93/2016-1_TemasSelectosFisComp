{
 "cells": [
  {
   "cell_type": "markdown",
   "metadata": {},
   "source": [
    "Gerardo Rivas Alvarez."
   ]
  },
  {
   "cell_type": "markdown",
   "metadata": {},
   "source": [
    "### Ejercicio 1\n",
    "\n",
    "En clase vimos que la función `bits` permite ver la representación binaria de números de punto flotante (`Float64`) o de enteros (e.g., `Int64`). En particular, para números de punto flotante, el primer bit es el signo, los siguiente 11 son el *exponente* y el resto es la representación binaria (sin el 1 del principio), del número en cuestión.\n",
    "\n",
    "La pregunta es ¿qué significa el exponente?\n",
    "\n",
    "```julia\n",
    "bits(0.1)\n",
    "\"0111111111110000000000000000000000000000000000000000000000000000\"\n",
    "```"
   ]
  },
  {
   "cell_type": "markdown",
   "metadata": {},
   "source": [
    "Tiene que ver con la \"notación científica\" de la computadora. Para ella un número flotante se puede escribir como $x=q\\times 2^{m}$. Y el exponene de la representación binaria tiene que ver justo con $m$."
   ]
  },
  {
   "cell_type": "markdown",
   "metadata": {},
   "source": [
    "### Ejercicio 2\n",
    "\n",
    "- ¿Cuál es el número más chico que sumado (o restado) a 1.0 me da algo distinto de 1.0?\n",
    "(Este número se bautiza como el \"épsilon de la máquina\")\n",
    "\n",
    "- ¿Cuál es el número más chico que sumado (o restado) a 10.0 me da algo distinto de 10.0?\n"
   ]
  },
  {
   "cell_type": "markdown",
   "metadata": {},
   "source": [
    "Aproximé la épsilon de la máquina para 1 y para 10 por medio de potencias de e, la base del logaritmo natural. \n",
    "A prueba y error encontre que la potencia que jala para ambos está entre -40 y -30. Entonces hice un código que busca el exponente para el cual 1+e^(-i) = 1. El código no es más que un ciclo for que recorre el intervalo [30,40] con pasos de 0.0001 y busca la condición deseada con un condicional if."
   ]
  },
  {
   "cell_type": "code",
   "execution_count": 15,
   "metadata": {
    "collapsed": false
   },
   "outputs": [
    {
     "name": "stdout",
     "output_type": "stream",
     "text": [
      "Una aproximación para la épsilon de 1 es 1.1101126402791968e-16\n"
     ]
    }
   ],
   "source": [
    "for i in 30:0.0001:40\n",
    "    if 1 + e^(-i) == 1\n",
    "        println(\"Una aproximación para la épsilon de 1 es \", e^(-i))\n",
    "        break\n",
    "    end\n",
    "end\n"
   ]
  },
  {
   "cell_type": "code",
   "execution_count": 16,
   "metadata": {
    "collapsed": false
   },
   "outputs": [
    {
     "name": "stdout",
     "output_type": "stream",
     "text": [
      "Una aproximación para la épsilon de 10 (diez) es 8.881420299969667e-16\n"
     ]
    }
   ],
   "source": [
    "for i in 30:0.0001:40\n",
    "    if 10 + e^(-i) == 10\n",
    "        println(\"Una aproximación para la épsilon de 10 (diez) es \", e^(-i))\n",
    "        break\n",
    "    end\n",
    "end"
   ]
  },
  {
   "cell_type": "markdown",
   "metadata": {},
   "source": [
    "### Ejercicio 3\n",
    "\n",
    "Define una functión llamada `derivada1` que implemente el cálculo de:\n",
    "\n",
    "$$\n",
    "\\frac{\\Delta f(x)}{\\Delta x}(x_0) = \\frac{f(x_0+h)-f(x_0)}{h}\n",
    "$$\n",
    "\n",
    "Obviamente esta función es una aproximación *finita* de la derivada. La pregunta es ¿qué tan buena es esta aproximación, pensando en términos de $h$?\n",
    "\n",
    "- La primer sub-pregunta es ¿cómo se responde este tipo de pregunta?\n",
    "- Uno tiene que tomar un caso concreto (para $f(x_0,h)$); sugiero empezar con un polinomio con coeficientes enteros, y después hacer el mismo tipo de pruebas con una función trascendental.\n",
    "- ¿Hay algo *sorprendente* en el comportamiento de `derivada1` como función de $h$? ¿A qué lo puedes atribuir?\n",
    "- ¿Puedes hacer que la función `derivada1` funcione para funciones más o menos arbitrarias, que el usuario define?\n",
    "- ¿Puedes explicar de alguna manera los resultados que has obtenido?"
   ]
  },
  {
   "cell_type": "code",
   "execution_count": 8,
   "metadata": {
    "collapsed": false
   },
   "outputs": [
    {
     "data": {
      "text/plain": [
       "derivada1 (generic function with 1 method)"
      ]
     },
     "execution_count": 8,
     "metadata": {},
     "output_type": "execute_result"
    }
   ],
   "source": [
    "#Se define la función derivada que calcula la derivada de una función con la definicón usual.\n",
    "function derivada1(funcion,x_0,h)\n",
    "    (funcion(x_0+h)-funcion(x_0))/h\n",
    "end"
   ]
  },
  {
   "cell_type": "code",
   "execution_count": 12,
   "metadata": {
    "collapsed": false
   },
   "outputs": [
    {
     "data": {
      "text/plain": [
       "3.0100000000000016"
      ]
     },
     "execution_count": 12,
     "metadata": {},
     "output_type": "execute_result"
    }
   ],
   "source": [
    "g(x)=x^2 + x\n",
    "derivada1(g,1.0,0.01)"
   ]
  },
  {
   "cell_type": "code",
   "execution_count": 36,
   "metadata": {
    "collapsed": false
   },
   "outputs": [
    {
     "data": {
      "text/plain": [
       "0.9983341664682815"
      ]
     },
     "execution_count": 36,
     "metadata": {},
     "output_type": "execute_result"
    }
   ],
   "source": [
    "f(x)=sin(x)\n",
    "derivada1(f,0,0.1)"
   ]
  },
  {
   "cell_type": "markdown",
   "metadata": {},
   "source": [
    "En el código de arriba se ha definido la función `derivada1` y se ha probado con varias funciones polinomiales y trascendentales (Sólo se muestran dos, pero se fue borrando y reescribiendo). Jugando con estas funciones se observó que el error absoluto no supera, en orden de magnitud, el orden de magnitud de $h$, siempre y cuando $h \\leq 0.1$. Y por tanto, mientras menor es $h$, menor es el error absoluto. Esto debido a que la definición matemática es el límite cuando $h$ tiende a cero. "
   ]
  },
  {
   "cell_type": "markdown",
   "metadata": {},
   "source": [
    "Si la función que define el usuario no es \"continua\" en el siguiente sentido, una relación obtenida empíricamente. En este caso nada asegura que $f(x+h)$ exista si quiera. En ese caso no se me ocurre que pueda hacer con `derivada1`."
   ]
  },
  {
   "cell_type": "markdown",
   "metadata": {},
   "source": [
    "### Ejercicio 4\n",
    "\n",
    "Este ejercicio es equivalente al anterior, pero considerando la función `derivada2` que implemente el cálculo de:\n",
    "\n",
    "$$\n",
    "\\frac{\\Delta f(x)}{\\Delta x}(x_0) = \\frac{f(x_0+h)-f(x_0-h)}{2h}\n",
    "$$\n",
    "\n",
    "¿Puedes explicar por qué la convergencia es mejor en este caso?\n"
   ]
  },
  {
   "cell_type": "code",
   "execution_count": 18,
   "metadata": {
    "collapsed": false
   },
   "outputs": [
    {
     "data": {
      "text/plain": [
       "derivada2 (generic function with 1 method)"
      ]
     },
     "execution_count": 18,
     "metadata": {},
     "output_type": "execute_result"
    }
   ],
   "source": [
    "function derivada2(f, x_0, h)\n",
    "    (f(x_0 + h)-f(x_0 - h))/2h\n",
    "    \n",
    "end"
   ]
  },
  {
   "cell_type": "code",
   "execution_count": 30,
   "metadata": {
    "collapsed": false
   },
   "outputs": [
    {
     "data": {
      "text/plain": [
       "3.0000000000000027"
      ]
     },
     "execution_count": 30,
     "metadata": {},
     "output_type": "execute_result"
    }
   ],
   "source": [
    "f(x)=x^2 +x\n",
    "\n",
    "#derivada1(f,1.,0.1)\n",
    "derivada2(f,1.0,0.1)"
   ]
  },
  {
   "cell_type": "markdown",
   "metadata": {},
   "source": [
    "Si se desarrolla $f(x_0 + h$ y $f(x_0 - h)$ en serie de Taylor y se hace la diferencia, se anula el error lineal en $h$ y el siguiente error apreciable va como $h^2$"
   ]
  },
  {
   "cell_type": "markdown",
   "metadata": {},
   "source": [
    "### Ejercicio 5\n",
    "\n",
    "Manda el notebook con tus resultados haciendo un pull-request al repositorio del curso. Para hacer esto:\n",
    "- Haz un `fork` del repositorio del curso a tu propia cuenta en GitHub\n",
    "- Una vez que tengas resuelto el notebook, súbelo a **tu** repositorio (con `git push`), en la carpeta \"tareas/usuario_github/nombre_notebook\"\n",
    "- Desde tu repositorio, haz un \"Pull Request\". El *pull request* sólo se aceptará si es legible en el sentido más amplio de la palabra y, obviamente, si es correcto. Esto significa que debe ser *entendible*, a partir de lo que ustedes escriben, incluso para gente que no está en el curso. (Como GitHub es público, piensen fríamente que esto puede ser leido por *muuucha* gente allá afuera.) Si el trabajo es en colaboración, háganlo saber en el propio notebook (cosa que se debe notar en el historial de lo que envíen). Finalmente, como código ético, incluyan cualquier fuente de inspiración, incluso cuando se trate del notebook de otro compañero/equipo del curso."
   ]
  },
  {
   "cell_type": "markdown",
   "metadata": {
    "collapsed": true
   },
   "source": [
    "##Fuentes\n",
    "\n",
    "- El notebook de mi compañero Bertoni.\n",
    "- Métodos numéricos y computación. Ward Cheney, David Kincaid. CENGAGE learning."
   ]
  },
  {
   "cell_type": "code",
   "execution_count": null,
   "metadata": {
    "collapsed": true
   },
   "outputs": [],
   "source": []
  }
 ],
 "metadata": {
  "kernelspec": {
   "display_name": "Julia 0.4.0-dev",
   "language": "julia",
   "name": "julia-0.4"
  },
  "language_info": {
   "name": "julia",
   "version": "0.4.0"
  }
 },
 "nbformat": 4,
 "nbformat_minor": 0
}
