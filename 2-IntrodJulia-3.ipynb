{
 "cells": [
  {
   "cell_type": "markdown",
   "metadata": {},
   "source": [
    "# Types (estructuras *tipo*)"
   ]
  },
  {
   "cell_type": "markdown",
   "metadata": {},
   "source": [
    "**NOTA:** Este notebook, y seguramente los que seguirán, serán escritos usando Julia v0.4-dev o v0.4-pre; algunas de los resultados que se obtienen abajo dependen de la versión que se utilice."
   ]
  },
  {
   "cell_type": "markdown",
   "metadata": {},
   "source": [
    "En Julia, **todo** es un objeto de algún *tipo*. Por ejemplo:"
   ]
  },
  {
   "cell_type": "code",
   "execution_count": null,
   "metadata": {
    "collapsed": false
   },
   "outputs": [],
   "source": [
    "typeof( 7 )"
   ]
  },
  {
   "cell_type": "code",
   "execution_count": null,
   "metadata": {
    "collapsed": false
   },
   "outputs": [],
   "source": [
    "typeof( 18612381238101715161911126301710 )"
   ]
  },
  {
   "cell_type": "code",
   "execution_count": null,
   "metadata": {
    "collapsed": false
   },
   "outputs": [],
   "source": [
    "typeof( 186123812381017151619111263.01710 )"
   ]
  },
  {
   "cell_type": "code",
   "execution_count": 15,
   "metadata": {
    "collapsed": false
   },
   "outputs": [
    {
     "data": {
      "text/plain": [
       "Rational{Int64}"
      ]
     },
     "execution_count": 15,
     "metadata": {},
     "output_type": "execute_result"
    }
   ],
   "source": [
    "typeof( 3//1 )"
   ]
  },
  {
   "cell_type": "code",
   "execution_count": 16,
   "metadata": {
    "collapsed": false
   },
   "outputs": [
    {
     "data": {
      "text/plain": [
       "Rational{Base.GMP.BigInt}"
      ]
     },
     "execution_count": 16,
     "metadata": {},
     "output_type": "execute_result"
    }
   ],
   "source": [
    "typeof( BigInt(3)//1 )"
   ]
  },
  {
   "cell_type": "code",
   "execution_count": null,
   "metadata": {
    "collapsed": false
   },
   "outputs": [],
   "source": [
    "typeof( π )"
   ]
  },
  {
   "cell_type": "code",
   "execution_count": null,
   "metadata": {
    "collapsed": false
   },
   "outputs": [],
   "source": [
    "typeof( [1,2,3] )"
   ]
  },
  {
   "cell_type": "code",
   "execution_count": null,
   "metadata": {
    "collapsed": false
   },
   "outputs": [],
   "source": [
    "typeof( (2,3.2) )"
   ]
  },
  {
   "cell_type": "code",
   "execution_count": null,
   "metadata": {
    "collapsed": false
   },
   "outputs": [],
   "source": [
    "typeof( [\"perro\",2,3] )"
   ]
  },
  {
   "cell_type": "code",
   "execution_count": 14,
   "metadata": {
    "collapsed": false
   },
   "outputs": [
    {
     "data": {
      "text/plain": [
       "Array{Int64,2}"
      ]
     },
     "execution_count": 14,
     "metadata": {},
     "output_type": "execute_result"
    }
   ],
   "source": [
    "typeof( [[0, 1]  [1, 0]])"
   ]
  },
  {
   "cell_type": "code",
   "execution_count": null,
   "metadata": {
    "collapsed": false
   },
   "outputs": [],
   "source": [
    "typeof( \"abc\" )"
   ]
  },
  {
   "cell_type": "code",
   "execution_count": null,
   "metadata": {
    "collapsed": false
   },
   "outputs": [],
   "source": [
    "typeof( \"abc\"[1] )"
   ]
  },
  {
   "cell_type": "code",
   "execution_count": null,
   "metadata": {
    "collapsed": false
   },
   "outputs": [],
   "source": [
    "typeof(\"π\")"
   ]
  },
  {
   "cell_type": "code",
   "execution_count": null,
   "metadata": {
    "collapsed": false
   },
   "outputs": [],
   "source": [
    "f(x) = x^2-3\n",
    "typeof(f)"
   ]
  },
  {
   "cell_type": "code",
   "execution_count": null,
   "metadata": {
    "collapsed": false
   },
   "outputs": [],
   "source": [
    "typeof(3.2 + 4im)"
   ]
  },
  {
   "cell_type": "code",
   "execution_count": null,
   "metadata": {
    "collapsed": false
   },
   "outputs": [],
   "source": [
    "typeof(3//1 + 1im//2)"
   ]
  },
  {
   "cell_type": "markdown",
   "metadata": {},
   "source": [
    "En Julia, realmente **todo** es un objeto de algún *tipo*."
   ]
  },
  {
   "cell_type": "code",
   "execution_count": null,
   "metadata": {
    "collapsed": false
   },
   "outputs": [],
   "source": [
    "typeof(+)"
   ]
  },
  {
   "cell_type": "code",
   "execution_count": null,
   "metadata": {
    "collapsed": false
   },
   "outputs": [],
   "source": [
    "typeof(//)"
   ]
  },
  {
   "cell_type": "markdown",
   "metadata": {},
   "source": [
    "La última intrucción *implica* que `+` es alguna función, y como tal, debe funcionar con ciertos tipos de entradas; a esto se le distingue como *métodos*. Para saber qué métodos están definidos en una función, usamos la *función* `methods`:"
   ]
  },
  {
   "cell_type": "code",
   "execution_count": null,
   "metadata": {
    "collapsed": false
   },
   "outputs": [],
   "source": [
    "typeof(1 == 0)"
   ]
  },
  {
   "cell_type": "code",
   "execution_count": 61,
   "metadata": {
    "collapsed": false
   },
   "outputs": [
    {
     "data": {
      "text/html": [
       "149 methods for generic function <b>+</b>:<ul><li> +(x::<b>Bool</b>) at <a href=\"https://github.com/JuliaLang/julia/tree/e3d2cb769f2ae24d09db3c0694ebedcfadd80224/base/bool.jl#L33\" target=\"_blank\">bool.jl:33</a><li> +(x::<b>Bool</b>, y::<b>Bool</b>) at <a href=\"https://github.com/JuliaLang/julia/tree/e3d2cb769f2ae24d09db3c0694ebedcfadd80224/base/bool.jl#L36\" target=\"_blank\">bool.jl:36</a><li> +(y::<b>AbstractFloat</b>, x::<b>Bool</b>) at <a href=\"https://github.com/JuliaLang/julia/tree/e3d2cb769f2ae24d09db3c0694ebedcfadd80224/base/bool.jl#L46\" target=\"_blank\">bool.jl:46</a><li> +(x::<b>Int64</b>, y::<b>Int64</b>) at <a href=\"https://github.com/JuliaLang/julia/tree/e3d2cb769f2ae24d09db3c0694ebedcfadd80224/base/int.jl#L8\" target=\"_blank\">int.jl:8</a><li> +(x::<b>Int8</b>, y::<b>Int8</b>) at <a href=\"https://github.com/JuliaLang/julia/tree/e3d2cb769f2ae24d09db3c0694ebedcfadd80224/base/int.jl#L16\" target=\"_blank\">int.jl:16</a><li> +(x::<b>UInt8</b>, y::<b>UInt8</b>) at <a href=\"https://github.com/JuliaLang/julia/tree/e3d2cb769f2ae24d09db3c0694ebedcfadd80224/base/int.jl#L16\" target=\"_blank\">int.jl:16</a><li> +(x::<b>Int16</b>, y::<b>Int16</b>) at <a href=\"https://github.com/JuliaLang/julia/tree/e3d2cb769f2ae24d09db3c0694ebedcfadd80224/base/int.jl#L16\" target=\"_blank\">int.jl:16</a><li> +(x::<b>UInt16</b>, y::<b>UInt16</b>) at <a href=\"https://github.com/JuliaLang/julia/tree/e3d2cb769f2ae24d09db3c0694ebedcfadd80224/base/int.jl#L16\" target=\"_blank\">int.jl:16</a><li> +(x::<b>Int32</b>, y::<b>Int32</b>) at <a href=\"https://github.com/JuliaLang/julia/tree/e3d2cb769f2ae24d09db3c0694ebedcfadd80224/base/int.jl#L16\" target=\"_blank\">int.jl:16</a><li> +(x::<b>UInt32</b>, y::<b>UInt32</b>) at <a href=\"https://github.com/JuliaLang/julia/tree/e3d2cb769f2ae24d09db3c0694ebedcfadd80224/base/int.jl#L16\" target=\"_blank\">int.jl:16</a><li> +(x::<b>UInt64</b>, y::<b>UInt64</b>) at <a href=\"https://github.com/JuliaLang/julia/tree/e3d2cb769f2ae24d09db3c0694ebedcfadd80224/base/int.jl#L16\" target=\"_blank\">int.jl:16</a><li> +(x::<b>Int128</b>, y::<b>Int128</b>) at <a href=\"https://github.com/JuliaLang/julia/tree/e3d2cb769f2ae24d09db3c0694ebedcfadd80224/base/int.jl#L16\" target=\"_blank\">int.jl:16</a><li> +(x::<b>UInt128</b>, y::<b>UInt128</b>) at <a href=\"https://github.com/JuliaLang/julia/tree/e3d2cb769f2ae24d09db3c0694ebedcfadd80224/base/int.jl#L16\" target=\"_blank\">int.jl:16</a><li> +(x::<b>Integer</b>, y::<b>Ptr{T}</b>) at <a href=\"https://github.com/JuliaLang/julia/tree/e3d2cb769f2ae24d09db3c0694ebedcfadd80224/base/pointer.jl#L77\" target=\"_blank\">pointer.jl:77</a><li> +(x::<b>Float32</b>, y::<b>Float32</b>) at <a href=\"https://github.com/JuliaLang/julia/tree/e3d2cb769f2ae24d09db3c0694ebedcfadd80224/base/float.jl#L203\" target=\"_blank\">float.jl:203</a><li> +(x::<b>Float64</b>, y::<b>Float64</b>) at <a href=\"https://github.com/JuliaLang/julia/tree/e3d2cb769f2ae24d09db3c0694ebedcfadd80224/base/float.jl#L204\" target=\"_blank\">float.jl:204</a><li> +(z::<b>Complex{T<:Real}</b>, w::<b>Complex{T<:Real}</b>) at <a href=\"https://github.com/JuliaLang/julia/tree/e3d2cb769f2ae24d09db3c0694ebedcfadd80224/base/complex.jl#L112\" target=\"_blank\">complex.jl:112</a><li> +(x::<b>Real</b>, z::<b>Complex{T<:Real}</b>) at <a href=\"https://github.com/JuliaLang/julia/tree/e3d2cb769f2ae24d09db3c0694ebedcfadd80224/base/complex.jl#L122\" target=\"_blank\">complex.jl:122</a><li> +(z::<b>Complex{T<:Real}</b>, x::<b>Real</b>) at <a href=\"https://github.com/JuliaLang/julia/tree/e3d2cb769f2ae24d09db3c0694ebedcfadd80224/base/complex.jl#L123\" target=\"_blank\">complex.jl:123</a><li> +(x::<b>Rational{T<:Integer}</b>, y::<b>Rational{T<:Integer}</b>) at <a href=\"https://github.com/JuliaLang/julia/tree/e3d2cb769f2ae24d09db3c0694ebedcfadd80224/base/rational.jl#L170\" target=\"_blank\">rational.jl:170</a><li> +(x::<b>Bool</b>, A::<b>AbstractArray{Bool,N}</b>) at <a href=\"https://github.com/JuliaLang/julia/tree/e3d2cb769f2ae24d09db3c0694ebedcfadd80224/base/arraymath.jl#L136\" target=\"_blank\">arraymath.jl:136</a><li> +(x::<b>Integer</b>, y::<b>Char</b>) at <a href=\"https://github.com/JuliaLang/julia/tree/e3d2cb769f2ae24d09db3c0694ebedcfadd80224/base/char.jl#L44\" target=\"_blank\">char.jl:44</a><li> +(a::<b>Float16</b>, b::<b>Float16</b>) at <a href=\"https://github.com/JuliaLang/julia/tree/e3d2cb769f2ae24d09db3c0694ebedcfadd80224/base/float16.jl#L136\" target=\"_blank\">float16.jl:136</a><li> +(x::<b>Base.GMP.BigInt</b>, y::<b>Base.GMP.BigInt</b>) at <a href=\"https://github.com/JuliaLang/julia/tree/e3d2cb769f2ae24d09db3c0694ebedcfadd80224/base/gmp.jl#L246\" target=\"_blank\">gmp.jl:246</a><li> +(a::<b>Base.GMP.BigInt</b>, b::<b>Base.GMP.BigInt</b>, c::<b>Base.GMP.BigInt</b>) at <a href=\"https://github.com/JuliaLang/julia/tree/e3d2cb769f2ae24d09db3c0694ebedcfadd80224/base/gmp.jl#L269\" target=\"_blank\">gmp.jl:269</a><li> +(a::<b>Base.GMP.BigInt</b>, b::<b>Base.GMP.BigInt</b>, c::<b>Base.GMP.BigInt</b>, d::<b>Base.GMP.BigInt</b>) at <a href=\"https://github.com/JuliaLang/julia/tree/e3d2cb769f2ae24d09db3c0694ebedcfadd80224/base/gmp.jl#L275\" target=\"_blank\">gmp.jl:275</a><li> +(a::<b>Base.GMP.BigInt</b>, b::<b>Base.GMP.BigInt</b>, c::<b>Base.GMP.BigInt</b>, d::<b>Base.GMP.BigInt</b>, e::<b>Base.GMP.BigInt</b>) at <a href=\"https://github.com/JuliaLang/julia/tree/e3d2cb769f2ae24d09db3c0694ebedcfadd80224/base/gmp.jl#L282\" target=\"_blank\">gmp.jl:282</a><li> +(x::<b>Base.GMP.BigInt</b>, c::<b>Union{UInt16,UInt32,UInt64,UInt8}</b>) at <a href=\"https://github.com/JuliaLang/julia/tree/e3d2cb769f2ae24d09db3c0694ebedcfadd80224/base/gmp.jl#L294\" target=\"_blank\">gmp.jl:294</a><li> +(c::<b>Union{UInt16,UInt32,UInt64,UInt8}</b>, x::<b>Base.GMP.BigInt</b>) at <a href=\"https://github.com/JuliaLang/julia/tree/e3d2cb769f2ae24d09db3c0694ebedcfadd80224/base/gmp.jl#L298\" target=\"_blank\">gmp.jl:298</a><li> +(x::<b>Base.GMP.BigInt</b>, c::<b>Union{Int16,Int32,Int64,Int8}</b>) at <a href=\"https://github.com/JuliaLang/julia/tree/e3d2cb769f2ae24d09db3c0694ebedcfadd80224/base/gmp.jl#L310\" target=\"_blank\">gmp.jl:310</a><li> +(c::<b>Union{Int16,Int32,Int64,Int8}</b>, x::<b>Base.GMP.BigInt</b>) at <a href=\"https://github.com/JuliaLang/julia/tree/e3d2cb769f2ae24d09db3c0694ebedcfadd80224/base/gmp.jl#L311\" target=\"_blank\">gmp.jl:311</a><li> +(x::<b>Base.MPFR.BigFloat</b>, y::<b>Base.MPFR.BigFloat</b>) at <a href=\"https://github.com/JuliaLang/julia/tree/e3d2cb769f2ae24d09db3c0694ebedcfadd80224/base/mpfr.jl#L208\" target=\"_blank\">mpfr.jl:208</a><li> +(x::<b>Base.MPFR.BigFloat</b>, c::<b>Union{UInt16,UInt32,UInt64,UInt8}</b>) at <a href=\"https://github.com/JuliaLang/julia/tree/e3d2cb769f2ae24d09db3c0694ebedcfadd80224/base/mpfr.jl#L215\" target=\"_blank\">mpfr.jl:215</a><li> +(c::<b>Union{UInt16,UInt32,UInt64,UInt8}</b>, x::<b>Base.MPFR.BigFloat</b>) at <a href=\"https://github.com/JuliaLang/julia/tree/e3d2cb769f2ae24d09db3c0694ebedcfadd80224/base/mpfr.jl#L219\" target=\"_blank\">mpfr.jl:219</a><li> +(x::<b>Base.MPFR.BigFloat</b>, c::<b>Union{Int16,Int32,Int64,Int8}</b>) at <a href=\"https://github.com/JuliaLang/julia/tree/e3d2cb769f2ae24d09db3c0694ebedcfadd80224/base/mpfr.jl#L223\" target=\"_blank\">mpfr.jl:223</a><li> +(c::<b>Union{Int16,Int32,Int64,Int8}</b>, x::<b>Base.MPFR.BigFloat</b>) at <a href=\"https://github.com/JuliaLang/julia/tree/e3d2cb769f2ae24d09db3c0694ebedcfadd80224/base/mpfr.jl#L227\" target=\"_blank\">mpfr.jl:227</a><li> +(x::<b>Base.MPFR.BigFloat</b>, c::<b>Union{Float16,Float32,Float64}</b>) at <a href=\"https://github.com/JuliaLang/julia/tree/e3d2cb769f2ae24d09db3c0694ebedcfadd80224/base/mpfr.jl#L231\" target=\"_blank\">mpfr.jl:231</a><li> +(c::<b>Union{Float16,Float32,Float64}</b>, x::<b>Base.MPFR.BigFloat</b>) at <a href=\"https://github.com/JuliaLang/julia/tree/e3d2cb769f2ae24d09db3c0694ebedcfadd80224/base/mpfr.jl#L235\" target=\"_blank\">mpfr.jl:235</a><li> +(x::<b>Base.MPFR.BigFloat</b>, c::<b>Base.GMP.BigInt</b>) at <a href=\"https://github.com/JuliaLang/julia/tree/e3d2cb769f2ae24d09db3c0694ebedcfadd80224/base/mpfr.jl#L239\" target=\"_blank\">mpfr.jl:239</a><li> +(c::<b>Base.GMP.BigInt</b>, x::<b>Base.MPFR.BigFloat</b>) at <a href=\"https://github.com/JuliaLang/julia/tree/e3d2cb769f2ae24d09db3c0694ebedcfadd80224/base/mpfr.jl#L243\" target=\"_blank\">mpfr.jl:243</a><li> +(a::<b>Base.MPFR.BigFloat</b>, b::<b>Base.MPFR.BigFloat</b>, c::<b>Base.MPFR.BigFloat</b>) at <a href=\"https://github.com/JuliaLang/julia/tree/e3d2cb769f2ae24d09db3c0694ebedcfadd80224/base/mpfr.jl#L379\" target=\"_blank\">mpfr.jl:379</a><li> +(a::<b>Base.MPFR.BigFloat</b>, b::<b>Base.MPFR.BigFloat</b>, c::<b>Base.MPFR.BigFloat</b>, d::<b>Base.MPFR.BigFloat</b>) at <a href=\"https://github.com/JuliaLang/julia/tree/e3d2cb769f2ae24d09db3c0694ebedcfadd80224/base/mpfr.jl#L385\" target=\"_blank\">mpfr.jl:385</a><li> +(a::<b>Base.MPFR.BigFloat</b>, b::<b>Base.MPFR.BigFloat</b>, c::<b>Base.MPFR.BigFloat</b>, d::<b>Base.MPFR.BigFloat</b>, e::<b>Base.MPFR.BigFloat</b>) at <a href=\"https://github.com/JuliaLang/julia/tree/e3d2cb769f2ae24d09db3c0694ebedcfadd80224/base/mpfr.jl#L392\" target=\"_blank\">mpfr.jl:392</a><li> +(x::<b>Irrational{sym}</b>, y::<b>Irrational{sym}</b>) at <a href=\"https://github.com/JuliaLang/julia/tree/e3d2cb769f2ae24d09db3c0694ebedcfadd80224/base/irrationals.jl#L72\" target=\"_blank\">irrationals.jl:72</a><li> +(x::<b>Number</b>) at <a href=\"https://github.com/JuliaLang/julia/tree/e3d2cb769f2ae24d09db3c0694ebedcfadd80224/base/operators.jl#L73\" target=\"_blank\">operators.jl:73</a><li> +<i>{T<:Number}</i>(x::<b>T<:Number</b>, y::<b>T<:Number</b>) at <a href=\"https://github.com/JuliaLang/julia/tree/e3d2cb769f2ae24d09db3c0694ebedcfadd80224/base/promotion.jl#L211\" target=\"_blank\">promotion.jl:211</a><li> +<i>{T<:AbstractFloat}</i>(x::<b>Bool</b>, y::<b>T<:AbstractFloat</b>) at <a href=\"https://github.com/JuliaLang/julia/tree/e3d2cb769f2ae24d09db3c0694ebedcfadd80224/base/bool.jl#L43\" target=\"_blank\">bool.jl:43</a><li> +(x::<b>Number</b>, y::<b>Number</b>) at <a href=\"https://github.com/JuliaLang/julia/tree/e3d2cb769f2ae24d09db3c0694ebedcfadd80224/base/promotion.jl#L167\" target=\"_blank\">promotion.jl:167</a><li> +(r1::<b>OrdinalRange{T,S}</b>, r2::<b>OrdinalRange{T,S}</b>) at <a href=\"https://github.com/JuliaLang/julia/tree/e3d2cb769f2ae24d09db3c0694ebedcfadd80224/base/operators.jl#L324\" target=\"_blank\">operators.jl:324</a><li> +<i>{T<:AbstractFloat}</i>(r1::<b>FloatRange{T<:AbstractFloat}</b>, r2::<b>FloatRange{T<:AbstractFloat}</b>) at <a href=\"https://github.com/JuliaLang/julia/tree/e3d2cb769f2ae24d09db3c0694ebedcfadd80224/base/operators.jl#L331\" target=\"_blank\">operators.jl:331</a><li> +<i>{T<:AbstractFloat}</i>(r1::<b>LinSpace{T<:AbstractFloat}</b>, r2::<b>LinSpace{T<:AbstractFloat}</b>) at <a href=\"https://github.com/JuliaLang/julia/tree/e3d2cb769f2ae24d09db3c0694ebedcfadd80224/base/operators.jl#L350\" target=\"_blank\">operators.jl:350</a><li> +(r1::<b>Union{FloatRange{T<:AbstractFloat},LinSpace{T<:AbstractFloat},OrdinalRange{T,S}}</b>, r2::<b>Union{FloatRange{T<:AbstractFloat},LinSpace{T<:AbstractFloat},OrdinalRange{T,S}}</b>) at <a href=\"https://github.com/JuliaLang/julia/tree/e3d2cb769f2ae24d09db3c0694ebedcfadd80224/base/operators.jl#L363\" target=\"_blank\">operators.jl:363</a><li> +(x::<b>Ptr{T}</b>, y::<b>Integer</b>) at <a href=\"https://github.com/JuliaLang/julia/tree/e3d2cb769f2ae24d09db3c0694ebedcfadd80224/base/pointer.jl#L75\" target=\"_blank\">pointer.jl:75</a><li> +<i>{S,T}</i>(A::<b>Range{S}</b>, B::<b>Range{T}</b>) at <a href=\"https://github.com/JuliaLang/julia/tree/e3d2cb769f2ae24d09db3c0694ebedcfadd80224/base/arraymath.jl#L69\" target=\"_blank\">arraymath.jl:69</a><li> +<i>{S,T}</i>(A::<b>Range{S}</b>, B::<b>AbstractArray{T,N}</b>) at <a href=\"https://github.com/JuliaLang/julia/tree/e3d2cb769f2ae24d09db3c0694ebedcfadd80224/base/arraymath.jl#L87\" target=\"_blank\">arraymath.jl:87</a><li> +(A::<b>BitArray{N}</b>, B::<b>BitArray{N}</b>) at <a href=\"https://github.com/JuliaLang/julia/tree/e3d2cb769f2ae24d09db3c0694ebedcfadd80224/base/bitarray.jl#L845\" target=\"_blank\">bitarray.jl:845</a><li> +<i>{T}</i>(B::<b>BitArray{2}</b>, J::<b>Base.LinAlg.UniformScaling{T}</b>) at <a href=\"https://github.com/JuliaLang/julia/tree/e3d2cb769f2ae24d09db3c0694ebedcfadd80224/base/linalg/uniformscaling.jl#L28\" target=\"_blank\">linalg/uniformscaling.jl:28</a><li> +(A::<b>Array{T,2}</b>, B::<b>Base.LinAlg.Diagonal{T}</b>) at <a href=\"https://github.com/JuliaLang/julia/tree/e3d2cb769f2ae24d09db3c0694ebedcfadd80224/base/linalg/special.jl#L122\" target=\"_blank\">linalg/special.jl:122</a><li> +(A::<b>Array{T,2}</b>, B::<b>Base.LinAlg.Bidiagonal{T}</b>) at <a href=\"https://github.com/JuliaLang/julia/tree/e3d2cb769f2ae24d09db3c0694ebedcfadd80224/base/linalg/special.jl#L122\" target=\"_blank\">linalg/special.jl:122</a><li> +(A::<b>Array{T,2}</b>, B::<b>Base.LinAlg.Tridiagonal{T}</b>) at <a href=\"https://github.com/JuliaLang/julia/tree/e3d2cb769f2ae24d09db3c0694ebedcfadd80224/base/linalg/special.jl#L122\" target=\"_blank\">linalg/special.jl:122</a><li> +(A::<b>Array{T,2}</b>, B::<b>Base.LinAlg.SymTridiagonal{T}</b>) at <a href=\"https://github.com/JuliaLang/julia/tree/e3d2cb769f2ae24d09db3c0694ebedcfadd80224/base/linalg/special.jl#L131\" target=\"_blank\">linalg/special.jl:131</a><li> +(A::<b>Array{T,N}</b>, B::<b>Base.SparseMatrix.SparseMatrixCSC{Tv,Ti<:Integer}</b>) at <a href=\"https://github.com/JuliaLang/julia/tree/e3d2cb769f2ae24d09db3c0694ebedcfadd80224/base/sparse/sparsematrix.jl#L899\" target=\"_blank\">sparse/sparsematrix.jl:899</a><li> +<i>{P<:Union{Base.Dates.CompoundPeriod,Base.Dates.Period}}</i>(x::<b>Union{DenseArray{P<:Union{Base.Dates.CompoundPeriod,Base.Dates.Period},N},SubArray{P<:Union{Base.Dates.CompoundPeriod,Base.Dates.Period},N,A<:DenseArray{T,N},I<:Tuple{Vararg{Union{Colon,Int64,Range{Int64}}}},LD}}</b>) at <a href=\"https://github.com/JuliaLang/julia/tree/e3d2cb769f2ae24d09db3c0694ebedcfadd80224/base/dates/periods.jl#L202\" target=\"_blank\">dates/periods.jl:202</a><li> +(A::<b>AbstractArray{Bool,N}</b>, x::<b>Bool</b>) at <a href=\"https://github.com/JuliaLang/julia/tree/e3d2cb769f2ae24d09db3c0694ebedcfadd80224/base/arraymath.jl#L135\" target=\"_blank\">arraymath.jl:135</a><li> +(A::<b>Union{DenseArray{Bool,N},SubArray{Bool,N,A<:DenseArray{T,N},I<:Tuple{Vararg{Union{Colon,Int64,Range{Int64}}}},LD}}</b>, B::<b>Union{DenseArray{Bool,N},SubArray{Bool,N,A<:DenseArray{T,N},I<:Tuple{Vararg{Union{Colon,Int64,Range{Int64}}}},LD}}</b>) at <a href=\"https://github.com/JuliaLang/julia/tree/e3d2cb769f2ae24d09db3c0694ebedcfadd80224/base/arraymath.jl#L166\" target=\"_blank\">arraymath.jl:166</a><li> +(A::<b>Base.LinAlg.SymTridiagonal{T}</b>, B::<b>Base.LinAlg.SymTridiagonal{T}</b>) at <a href=\"https://github.com/JuliaLang/julia/tree/e3d2cb769f2ae24d09db3c0694ebedcfadd80224/base/linalg/tridiag.jl#L84\" target=\"_blank\">linalg/tridiag.jl:84</a><li> +(A::<b>Base.LinAlg.Tridiagonal{T}</b>, B::<b>Base.LinAlg.Tridiagonal{T}</b>) at <a href=\"https://github.com/JuliaLang/julia/tree/e3d2cb769f2ae24d09db3c0694ebedcfadd80224/base/linalg/tridiag.jl#L404\" target=\"_blank\">linalg/tridiag.jl:404</a><li> +(A::<b>Base.LinAlg.UpperTriangular{T,S<:AbstractArray{T,2}}</b>, B::<b>Base.LinAlg.UpperTriangular{T,S<:AbstractArray{T,2}}</b>) at <a href=\"https://github.com/JuliaLang/julia/tree/e3d2cb769f2ae24d09db3c0694ebedcfadd80224/base/linalg/triangular.jl#L346\" target=\"_blank\">linalg/triangular.jl:346</a><li> +(A::<b>Base.LinAlg.LowerTriangular{T,S<:AbstractArray{T,2}}</b>, B::<b>Base.LinAlg.LowerTriangular{T,S<:AbstractArray{T,2}}</b>) at <a href=\"https://github.com/JuliaLang/julia/tree/e3d2cb769f2ae24d09db3c0694ebedcfadd80224/base/linalg/triangular.jl#L347\" target=\"_blank\">linalg/triangular.jl:347</a><li> +(A::<b>Base.LinAlg.UpperTriangular{T,S<:AbstractArray{T,2}}</b>, B::<b>Base.LinAlg.UnitUpperTriangular{T,S<:AbstractArray{T,2}}</b>) at <a href=\"https://github.com/JuliaLang/julia/tree/e3d2cb769f2ae24d09db3c0694ebedcfadd80224/base/linalg/triangular.jl#L348\" target=\"_blank\">linalg/triangular.jl:348</a><li> +(A::<b>Base.LinAlg.LowerTriangular{T,S<:AbstractArray{T,2}}</b>, B::<b>Base.LinAlg.UnitLowerTriangular{T,S<:AbstractArray{T,2}}</b>) at <a href=\"https://github.com/JuliaLang/julia/tree/e3d2cb769f2ae24d09db3c0694ebedcfadd80224/base/linalg/triangular.jl#L349\" target=\"_blank\">linalg/triangular.jl:349</a><li> +(A::<b>Base.LinAlg.UnitUpperTriangular{T,S<:AbstractArray{T,2}}</b>, B::<b>Base.LinAlg.UpperTriangular{T,S<:AbstractArray{T,2}}</b>) at <a href=\"https://github.com/JuliaLang/julia/tree/e3d2cb769f2ae24d09db3c0694ebedcfadd80224/base/linalg/triangular.jl#L350\" target=\"_blank\">linalg/triangular.jl:350</a><li> +(A::<b>Base.LinAlg.UnitLowerTriangular{T,S<:AbstractArray{T,2}}</b>, B::<b>Base.LinAlg.LowerTriangular{T,S<:AbstractArray{T,2}}</b>) at <a href=\"https://github.com/JuliaLang/julia/tree/e3d2cb769f2ae24d09db3c0694ebedcfadd80224/base/linalg/triangular.jl#L351\" target=\"_blank\">linalg/triangular.jl:351</a><li> +(A::<b>Base.LinAlg.UnitUpperTriangular{T,S<:AbstractArray{T,2}}</b>, B::<b>Base.LinAlg.UnitUpperTriangular{T,S<:AbstractArray{T,2}}</b>) at <a href=\"https://github.com/JuliaLang/julia/tree/e3d2cb769f2ae24d09db3c0694ebedcfadd80224/base/linalg/triangular.jl#L352\" target=\"_blank\">linalg/triangular.jl:352</a><li> +(A::<b>Base.LinAlg.UnitLowerTriangular{T,S<:AbstractArray{T,2}}</b>, B::<b>Base.LinAlg.UnitLowerTriangular{T,S<:AbstractArray{T,2}}</b>) at <a href=\"https://github.com/JuliaLang/julia/tree/e3d2cb769f2ae24d09db3c0694ebedcfadd80224/base/linalg/triangular.jl#L353\" target=\"_blank\">linalg/triangular.jl:353</a><li> +(A::<b>Base.LinAlg.AbstractTriangular{T,S<:AbstractArray{T,2}}</b>, B::<b>Base.LinAlg.AbstractTriangular{T,S<:AbstractArray{T,2}}</b>) at <a href=\"https://github.com/JuliaLang/julia/tree/e3d2cb769f2ae24d09db3c0694ebedcfadd80224/base/linalg/triangular.jl#L354\" target=\"_blank\">linalg/triangular.jl:354</a><li> +(Da::<b>Base.LinAlg.Diagonal{T}</b>, Db::<b>Base.LinAlg.Diagonal{T}</b>) at <a href=\"https://github.com/JuliaLang/julia/tree/e3d2cb769f2ae24d09db3c0694ebedcfadd80224/base/linalg/diagonal.jl#L82\" target=\"_blank\">linalg/diagonal.jl:82</a><li> +(A::<b>Base.LinAlg.Bidiagonal{T}</b>, B::<b>Base.LinAlg.Bidiagonal{T}</b>) at <a href=\"https://github.com/JuliaLang/julia/tree/e3d2cb769f2ae24d09db3c0694ebedcfadd80224/base/linalg/bidiag.jl#L176\" target=\"_blank\">linalg/bidiag.jl:176</a><li> +(UL::<b>Base.LinAlg.UpperTriangular{T,S<:AbstractArray{T,2}}</b>, J::<b>Base.LinAlg.UniformScaling{T<:Number}</b>) at <a href=\"https://github.com/JuliaLang/julia/tree/e3d2cb769f2ae24d09db3c0694ebedcfadd80224/base/linalg/uniformscaling.jl#L45\" target=\"_blank\">linalg/uniformscaling.jl:45</a><li> +(UL::<b>Base.LinAlg.UnitUpperTriangular{T,S<:AbstractArray{T,2}}</b>, J::<b>Base.LinAlg.UniformScaling{T<:Number}</b>) at <a href=\"https://github.com/JuliaLang/julia/tree/e3d2cb769f2ae24d09db3c0694ebedcfadd80224/base/linalg/uniformscaling.jl#L48\" target=\"_blank\">linalg/uniformscaling.jl:48</a><li> +(UL::<b>Base.LinAlg.LowerTriangular{T,S<:AbstractArray{T,2}}</b>, J::<b>Base.LinAlg.UniformScaling{T<:Number}</b>) at <a href=\"https://github.com/JuliaLang/julia/tree/e3d2cb769f2ae24d09db3c0694ebedcfadd80224/base/linalg/uniformscaling.jl#L45\" target=\"_blank\">linalg/uniformscaling.jl:45</a><li> +(UL::<b>Base.LinAlg.UnitLowerTriangular{T,S<:AbstractArray{T,2}}</b>, J::<b>Base.LinAlg.UniformScaling{T<:Number}</b>) at <a href=\"https://github.com/JuliaLang/julia/tree/e3d2cb769f2ae24d09db3c0694ebedcfadd80224/base/linalg/uniformscaling.jl#L48\" target=\"_blank\">linalg/uniformscaling.jl:48</a><li> +(A::<b>Base.LinAlg.Diagonal{T}</b>, B::<b>Base.LinAlg.Bidiagonal{T}</b>) at <a href=\"https://github.com/JuliaLang/julia/tree/e3d2cb769f2ae24d09db3c0694ebedcfadd80224/base/linalg/special.jl#L121\" target=\"_blank\">linalg/special.jl:121</a><li> +(A::<b>Base.LinAlg.Bidiagonal{T}</b>, B::<b>Base.LinAlg.Diagonal{T}</b>) at <a href=\"https://github.com/JuliaLang/julia/tree/e3d2cb769f2ae24d09db3c0694ebedcfadd80224/base/linalg/special.jl#L122\" target=\"_blank\">linalg/special.jl:122</a><li> +(A::<b>Base.LinAlg.Diagonal{T}</b>, B::<b>Base.LinAlg.Tridiagonal{T}</b>) at <a href=\"https://github.com/JuliaLang/julia/tree/e3d2cb769f2ae24d09db3c0694ebedcfadd80224/base/linalg/special.jl#L121\" target=\"_blank\">linalg/special.jl:121</a><li> +(A::<b>Base.LinAlg.Tridiagonal{T}</b>, B::<b>Base.LinAlg.Diagonal{T}</b>) at <a href=\"https://github.com/JuliaLang/julia/tree/e3d2cb769f2ae24d09db3c0694ebedcfadd80224/base/linalg/special.jl#L122\" target=\"_blank\">linalg/special.jl:122</a><li> +(A::<b>Base.LinAlg.Diagonal{T}</b>, B::<b>Array{T,2}</b>) at <a href=\"https://github.com/JuliaLang/julia/tree/e3d2cb769f2ae24d09db3c0694ebedcfadd80224/base/linalg/special.jl#L121\" target=\"_blank\">linalg/special.jl:121</a><li> +(A::<b>Base.LinAlg.Bidiagonal{T}</b>, B::<b>Base.LinAlg.Tridiagonal{T}</b>) at <a href=\"https://github.com/JuliaLang/julia/tree/e3d2cb769f2ae24d09db3c0694ebedcfadd80224/base/linalg/special.jl#L121\" target=\"_blank\">linalg/special.jl:121</a><li> +(A::<b>Base.LinAlg.Tridiagonal{T}</b>, B::<b>Base.LinAlg.Bidiagonal{T}</b>) at <a href=\"https://github.com/JuliaLang/julia/tree/e3d2cb769f2ae24d09db3c0694ebedcfadd80224/base/linalg/special.jl#L122\" target=\"_blank\">linalg/special.jl:122</a><li> +(A::<b>Base.LinAlg.Bidiagonal{T}</b>, B::<b>Array{T,2}</b>) at <a href=\"https://github.com/JuliaLang/julia/tree/e3d2cb769f2ae24d09db3c0694ebedcfadd80224/base/linalg/special.jl#L121\" target=\"_blank\">linalg/special.jl:121</a><li> +(A::<b>Base.LinAlg.Tridiagonal{T}</b>, B::<b>Array{T,2}</b>) at <a href=\"https://github.com/JuliaLang/julia/tree/e3d2cb769f2ae24d09db3c0694ebedcfadd80224/base/linalg/special.jl#L121\" target=\"_blank\">linalg/special.jl:121</a><li> +(A::<b>Base.LinAlg.SymTridiagonal{T}</b>, B::<b>Base.LinAlg.Tridiagonal{T}</b>) at <a href=\"https://github.com/JuliaLang/julia/tree/e3d2cb769f2ae24d09db3c0694ebedcfadd80224/base/linalg/special.jl#L130\" target=\"_blank\">linalg/special.jl:130</a><li> +(A::<b>Base.LinAlg.Tridiagonal{T}</b>, B::<b>Base.LinAlg.SymTridiagonal{T}</b>) at <a href=\"https://github.com/JuliaLang/julia/tree/e3d2cb769f2ae24d09db3c0694ebedcfadd80224/base/linalg/special.jl#L131\" target=\"_blank\">linalg/special.jl:131</a><li> +(A::<b>Base.LinAlg.SymTridiagonal{T}</b>, B::<b>Array{T,2}</b>) at <a href=\"https://github.com/JuliaLang/julia/tree/e3d2cb769f2ae24d09db3c0694ebedcfadd80224/base/linalg/special.jl#L130\" target=\"_blank\">linalg/special.jl:130</a><li> +(A::<b>Base.LinAlg.Diagonal{T}</b>, B::<b>Base.LinAlg.SymTridiagonal{T}</b>) at <a href=\"https://github.com/JuliaLang/julia/tree/e3d2cb769f2ae24d09db3c0694ebedcfadd80224/base/linalg/special.jl#L139\" target=\"_blank\">linalg/special.jl:139</a><li> +(A::<b>Base.LinAlg.SymTridiagonal{T}</b>, B::<b>Base.LinAlg.Diagonal{T}</b>) at <a href=\"https://github.com/JuliaLang/julia/tree/e3d2cb769f2ae24d09db3c0694ebedcfadd80224/base/linalg/special.jl#L140\" target=\"_blank\">linalg/special.jl:140</a><li> +(A::<b>Base.LinAlg.Bidiagonal{T}</b>, B::<b>Base.LinAlg.SymTridiagonal{T}</b>) at <a href=\"https://github.com/JuliaLang/julia/tree/e3d2cb769f2ae24d09db3c0694ebedcfadd80224/base/linalg/special.jl#L139\" target=\"_blank\">linalg/special.jl:139</a><li> +(A::<b>Base.LinAlg.SymTridiagonal{T}</b>, B::<b>Base.LinAlg.Bidiagonal{T}</b>) at <a href=\"https://github.com/JuliaLang/julia/tree/e3d2cb769f2ae24d09db3c0694ebedcfadd80224/base/linalg/special.jl#L140\" target=\"_blank\">linalg/special.jl:140</a><li> +<i>{Tv1,Ti1,Tv2,Ti2}</i>(A_1::<b>Base.SparseMatrix.SparseMatrixCSC{Tv1,Ti1}</b>, A_2::<b>Base.SparseMatrix.SparseMatrixCSC{Tv2,Ti2}</b>) at <a href=\"https://github.com/JuliaLang/julia/tree/e3d2cb769f2ae24d09db3c0694ebedcfadd80224/base/sparse/sparsematrix.jl#L885\" target=\"_blank\">sparse/sparsematrix.jl:885</a><li> +(A::<b>Base.SparseMatrix.SparseMatrixCSC{Tv,Ti<:Integer}</b>, B::<b>Array{T,N}</b>) at <a href=\"https://github.com/JuliaLang/julia/tree/e3d2cb769f2ae24d09db3c0694ebedcfadd80224/base/sparse/sparsematrix.jl#L897\" target=\"_blank\">sparse/sparsematrix.jl:897</a><li> +(A::<b>Base.SparseMatrix.SparseMatrixCSC{Tv,Ti<:Integer}</b>, J::<b>Base.LinAlg.UniformScaling{T<:Number}</b>) at <a href=\"https://github.com/JuliaLang/julia/tree/e3d2cb769f2ae24d09db3c0694ebedcfadd80224/base/sparse/sparsematrix.jl#L2852\" target=\"_blank\">sparse/sparsematrix.jl:2852</a><li> +<i>{P<:Union{Base.Dates.CompoundPeriod,Base.Dates.Period}}</i>(Y::<b>Union{DenseArray{P<:Union{Base.Dates.CompoundPeriod,Base.Dates.Period},N},SubArray{P<:Union{Base.Dates.CompoundPeriod,Base.Dates.Period},N,A<:DenseArray{T,N},I<:Tuple{Vararg{Union{Colon,Int64,Range{Int64}}}},LD}}</b>, x::<b>Union{Base.Dates.CompoundPeriod,Base.Dates.Period}</b>) at <a href=\"https://github.com/JuliaLang/julia/tree/e3d2cb769f2ae24d09db3c0694ebedcfadd80224/base/dates/periods.jl#L216\" target=\"_blank\">dates/periods.jl:216</a><li> +<i>{P<:Union{Base.Dates.CompoundPeriod,Base.Dates.Period},Q<:Union{Base.Dates.CompoundPeriod,Base.Dates.Period}}</i>(X::<b>Union{DenseArray{P<:Union{Base.Dates.CompoundPeriod,Base.Dates.Period},N},SubArray{P<:Union{Base.Dates.CompoundPeriod,Base.Dates.Period},N,A<:DenseArray{T,N},I<:Tuple{Vararg{Union{Colon,Int64,Range{Int64}}}},LD}}</b>, Y::<b>Union{DenseArray{Q<:Union{Base.Dates.CompoundPeriod,Base.Dates.Period},N},SubArray{Q<:Union{Base.Dates.CompoundPeriod,Base.Dates.Period},N,A<:DenseArray{T,N},I<:Tuple{Vararg{Union{Colon,Int64,Range{Int64}}}},LD}}</b>) at <a href=\"https://github.com/JuliaLang/julia/tree/e3d2cb769f2ae24d09db3c0694ebedcfadd80224/base/dates/periods.jl#L217\" target=\"_blank\">dates/periods.jl:217</a><li> +<i>{T<:Base.Dates.TimeType,P<:Union{Base.Dates.CompoundPeriod,Base.Dates.Period}}</i>(x::<b>Union{DenseArray{P<:Union{Base.Dates.CompoundPeriod,Base.Dates.Period},N},SubArray{P<:Union{Base.Dates.CompoundPeriod,Base.Dates.Period},N,A<:DenseArray{T,N},I<:Tuple{Vararg{Union{Colon,Int64,Range{Int64}}}},LD}}</b>, y::<b>T<:Base.Dates.TimeType</b>) at <a href=\"https://github.com/JuliaLang/julia/tree/e3d2cb769f2ae24d09db3c0694ebedcfadd80224/base/dates/arithmetic.jl#L83\" target=\"_blank\">dates/arithmetic.jl:83</a><li> +<i>{T<:Base.Dates.TimeType}</i>(r::<b>Range{T<:Base.Dates.TimeType}</b>, x::<b>Base.Dates.Period</b>) at <a href=\"https://github.com/JuliaLang/julia/tree/e3d2cb769f2ae24d09db3c0694ebedcfadd80224/base/dates/ranges.jl#L39\" target=\"_blank\">dates/ranges.jl:39</a><li> +<i>{T<:Number}</i>(x::<b>AbstractArray{T<:Number,N}</b>) at <a href=\"https://github.com/JuliaLang/julia/tree/e3d2cb769f2ae24d09db3c0694ebedcfadd80224/base/abstractarraymath.jl#L49\" target=\"_blank\">abstractarraymath.jl:49</a><li> +<i>{S,T}</i>(A::<b>AbstractArray{S,N}</b>, B::<b>Range{T}</b>) at <a href=\"https://github.com/JuliaLang/julia/tree/e3d2cb769f2ae24d09db3c0694ebedcfadd80224/base/arraymath.jl#L78\" target=\"_blank\">arraymath.jl:78</a><li> +<i>{S,T}</i>(A::<b>AbstractArray{S,N}</b>, B::<b>AbstractArray{T,N}</b>) at <a href=\"https://github.com/JuliaLang/julia/tree/e3d2cb769f2ae24d09db3c0694ebedcfadd80224/base/arraymath.jl#L96\" target=\"_blank\">arraymath.jl:96</a><li> +(A::<b>AbstractArray{T,N}</b>, x::<b>Number</b>) at <a href=\"https://github.com/JuliaLang/julia/tree/e3d2cb769f2ae24d09db3c0694ebedcfadd80224/base/arraymath.jl#L139\" target=\"_blank\">arraymath.jl:139</a><li> +(x::<b>Number</b>, A::<b>AbstractArray{T,N}</b>) at <a href=\"https://github.com/JuliaLang/julia/tree/e3d2cb769f2ae24d09db3c0694ebedcfadd80224/base/arraymath.jl#L140\" target=\"_blank\">arraymath.jl:140</a><li> +(x::<b>Char</b>, y::<b>Integer</b>) at <a href=\"https://github.com/JuliaLang/julia/tree/e3d2cb769f2ae24d09db3c0694ebedcfadd80224/base/char.jl#L43\" target=\"_blank\">char.jl:43</a><li> +<i>{N}</i>(index1::<b>Base.IteratorsMD.CartesianIndex{N}</b>, index2::<b>Base.IteratorsMD.CartesianIndex{N}</b>) at <a href=\"https://github.com/JuliaLang/julia/tree/e3d2cb769f2ae24d09db3c0694ebedcfadd80224/base/multidimensional.jl#L42\" target=\"_blank\">multidimensional.jl:42</a><li> +(J1::<b>Base.LinAlg.UniformScaling{T<:Number}</b>, J2::<b>Base.LinAlg.UniformScaling{T<:Number}</b>) at <a href=\"https://github.com/JuliaLang/julia/tree/e3d2cb769f2ae24d09db3c0694ebedcfadd80224/base/linalg/uniformscaling.jl#L27\" target=\"_blank\">linalg/uniformscaling.jl:27</a><li> +(J::<b>Base.LinAlg.UniformScaling{T<:Number}</b>, B::<b>BitArray{2}</b>) at <a href=\"https://github.com/JuliaLang/julia/tree/e3d2cb769f2ae24d09db3c0694ebedcfadd80224/base/linalg/uniformscaling.jl#L29\" target=\"_blank\">linalg/uniformscaling.jl:29</a><li> +(J::<b>Base.LinAlg.UniformScaling{T<:Number}</b>, A::<b>AbstractArray{T,2}</b>) at <a href=\"https://github.com/JuliaLang/julia/tree/e3d2cb769f2ae24d09db3c0694ebedcfadd80224/base/linalg/uniformscaling.jl#L30\" target=\"_blank\">linalg/uniformscaling.jl:30</a><li> +(J::<b>Base.LinAlg.UniformScaling{T<:Number}</b>, x::<b>Number</b>) at <a href=\"https://github.com/JuliaLang/julia/tree/e3d2cb769f2ae24d09db3c0694ebedcfadd80224/base/linalg/uniformscaling.jl#L31\" target=\"_blank\">linalg/uniformscaling.jl:31</a><li> +(x::<b>Number</b>, J::<b>Base.LinAlg.UniformScaling{T<:Number}</b>) at <a href=\"https://github.com/JuliaLang/julia/tree/e3d2cb769f2ae24d09db3c0694ebedcfadd80224/base/linalg/uniformscaling.jl#L32\" target=\"_blank\">linalg/uniformscaling.jl:32</a><li> +<i>{TA,TJ}</i>(A::<b>AbstractArray{TA,2}</b>, J::<b>Base.LinAlg.UniformScaling{TJ}</b>) at <a href=\"https://github.com/JuliaLang/julia/tree/e3d2cb769f2ae24d09db3c0694ebedcfadd80224/base/linalg/uniformscaling.jl#L92\" target=\"_blank\">linalg/uniformscaling.jl:92</a><li> +<i>{T}</i>(a::<b>Base.Pkg.Resolve.VersionWeights.HierarchicalValue{T}</b>, b::<b>Base.Pkg.Resolve.VersionWeights.HierarchicalValue{T}</b>) at <a href=\"https://github.com/JuliaLang/julia/tree/e3d2cb769f2ae24d09db3c0694ebedcfadd80224/base/pkg/resolve/versionweight.jl#L23\" target=\"_blank\">pkg/resolve/versionweight.jl:23</a><li> +(a::<b>Base.Pkg.Resolve.VersionWeights.VWPreBuildItem</b>, b::<b>Base.Pkg.Resolve.VersionWeights.VWPreBuildItem</b>) at <a href=\"https://github.com/JuliaLang/julia/tree/e3d2cb769f2ae24d09db3c0694ebedcfadd80224/base/pkg/resolve/versionweight.jl#L85\" target=\"_blank\">pkg/resolve/versionweight.jl:85</a><li> +(a::<b>Base.Pkg.Resolve.VersionWeights.VWPreBuild</b>, b::<b>Base.Pkg.Resolve.VersionWeights.VWPreBuild</b>) at <a href=\"https://github.com/JuliaLang/julia/tree/e3d2cb769f2ae24d09db3c0694ebedcfadd80224/base/pkg/resolve/versionweight.jl#L131\" target=\"_blank\">pkg/resolve/versionweight.jl:131</a><li> +(a::<b>Base.Pkg.Resolve.VersionWeights.VersionWeight</b>, b::<b>Base.Pkg.Resolve.VersionWeights.VersionWeight</b>) at <a href=\"https://github.com/JuliaLang/julia/tree/e3d2cb769f2ae24d09db3c0694ebedcfadd80224/base/pkg/resolve/versionweight.jl#L185\" target=\"_blank\">pkg/resolve/versionweight.jl:185</a><li> +(a::<b>Base.Pkg.Resolve.MaxSum.FieldValues.FieldValue</b>, b::<b>Base.Pkg.Resolve.MaxSum.FieldValues.FieldValue</b>) at <a href=\"https://github.com/JuliaLang/julia/tree/e3d2cb769f2ae24d09db3c0694ebedcfadd80224/base/pkg/resolve/fieldvalue.jl#L44\" target=\"_blank\">pkg/resolve/fieldvalue.jl:44</a><li> +<i>{P<:Base.Dates.Period}</i>(x::<b>P<:Base.Dates.Period</b>, y::<b>P<:Base.Dates.Period</b>) at <a href=\"https://github.com/JuliaLang/julia/tree/e3d2cb769f2ae24d09db3c0694ebedcfadd80224/base/dates/periods.jl#L43\" target=\"_blank\">dates/periods.jl:43</a><li> +(x::<b>Base.Dates.Period</b>, y::<b>Base.Dates.Period</b>) at <a href=\"https://github.com/JuliaLang/julia/tree/e3d2cb769f2ae24d09db3c0694ebedcfadd80224/base/dates/periods.jl#L190\" target=\"_blank\">dates/periods.jl:190</a><li> +(x::<b>Base.Dates.CompoundPeriod</b>, y::<b>Base.Dates.Period</b>) at <a href=\"https://github.com/JuliaLang/julia/tree/e3d2cb769f2ae24d09db3c0694ebedcfadd80224/base/dates/periods.jl#L191\" target=\"_blank\">dates/periods.jl:191</a><li> +(y::<b>Base.Dates.Period</b>, x::<b>Base.Dates.CompoundPeriod</b>) at <a href=\"https://github.com/JuliaLang/julia/tree/e3d2cb769f2ae24d09db3c0694ebedcfadd80224/base/dates/periods.jl#L192\" target=\"_blank\">dates/periods.jl:192</a><li> +(x::<b>Base.Dates.CompoundPeriod</b>, y::<b>Base.Dates.CompoundPeriod</b>) at <a href=\"https://github.com/JuliaLang/julia/tree/e3d2cb769f2ae24d09db3c0694ebedcfadd80224/base/dates/periods.jl#L193\" target=\"_blank\">dates/periods.jl:193</a><li> +(x::<b>Base.Dates.CompoundPeriod</b>, y::<b>Base.Dates.TimeType</b>) at <a href=\"https://github.com/JuliaLang/julia/tree/e3d2cb769f2ae24d09db3c0694ebedcfadd80224/base/dates/periods.jl#L238\" target=\"_blank\">dates/periods.jl:238</a><li> +(y::<b>Base.Dates.Period</b>, x::<b>Base.Dates.TimeType</b>) at <a href=\"https://github.com/JuliaLang/julia/tree/e3d2cb769f2ae24d09db3c0694ebedcfadd80224/base/dates/arithmetic.jl#L66\" target=\"_blank\">dates/arithmetic.jl:66</a><li> +<i>{T<:Base.Dates.TimeType}</i>(x::<b>Base.Dates.Period</b>, r::<b>Range{T<:Base.Dates.TimeType}</b>) at <a href=\"https://github.com/JuliaLang/julia/tree/e3d2cb769f2ae24d09db3c0694ebedcfadd80224/base/dates/ranges.jl#L40\" target=\"_blank\">dates/ranges.jl:40</a><li> +(x::<b>Union{Base.Dates.CompoundPeriod,Base.Dates.Period}</b>) at <a href=\"https://github.com/JuliaLang/julia/tree/e3d2cb769f2ae24d09db3c0694ebedcfadd80224/base/dates/periods.jl#L201\" target=\"_blank\">dates/periods.jl:201</a><li> +<i>{P<:Union{Base.Dates.CompoundPeriod,Base.Dates.Period}}</i>(x::<b>Union{Base.Dates.CompoundPeriod,Base.Dates.Period}</b>, Y::<b>Union{DenseArray{P<:Union{Base.Dates.CompoundPeriod,Base.Dates.Period},N},SubArray{P<:Union{Base.Dates.CompoundPeriod,Base.Dates.Period},N,A<:DenseArray{T,N},I<:Tuple{Vararg{Union{Colon,Int64,Range{Int64}}}},LD}}</b>) at <a href=\"https://github.com/JuliaLang/julia/tree/e3d2cb769f2ae24d09db3c0694ebedcfadd80224/base/dates/periods.jl#L215\" target=\"_blank\">dates/periods.jl:215</a><li> +(dt::<b>Base.Dates.DateTime</b>, y::<b>Base.Dates.Year</b>) at <a href=\"https://github.com/JuliaLang/julia/tree/e3d2cb769f2ae24d09db3c0694ebedcfadd80224/base/dates/arithmetic.jl#L13\" target=\"_blank\">dates/arithmetic.jl:13</a><li> +(dt::<b>Base.Dates.Date</b>, y::<b>Base.Dates.Year</b>) at <a href=\"https://github.com/JuliaLang/julia/tree/e3d2cb769f2ae24d09db3c0694ebedcfadd80224/base/dates/arithmetic.jl#L17\" target=\"_blank\">dates/arithmetic.jl:17</a><li> +(dt::<b>Base.Dates.DateTime</b>, z::<b>Base.Dates.Month</b>) at <a href=\"https://github.com/JuliaLang/julia/tree/e3d2cb769f2ae24d09db3c0694ebedcfadd80224/base/dates/arithmetic.jl#L37\" target=\"_blank\">dates/arithmetic.jl:37</a><li> +(dt::<b>Base.Dates.Date</b>, z::<b>Base.Dates.Month</b>) at <a href=\"https://github.com/JuliaLang/julia/tree/e3d2cb769f2ae24d09db3c0694ebedcfadd80224/base/dates/arithmetic.jl#L43\" target=\"_blank\">dates/arithmetic.jl:43</a><li> +(x::<b>Base.Dates.Date</b>, y::<b>Base.Dates.Week</b>) at <a href=\"https://github.com/JuliaLang/julia/tree/e3d2cb769f2ae24d09db3c0694ebedcfadd80224/base/dates/arithmetic.jl#L60\" target=\"_blank\">dates/arithmetic.jl:60</a><li> +(x::<b>Base.Dates.Date</b>, y::<b>Base.Dates.Day</b>) at <a href=\"https://github.com/JuliaLang/julia/tree/e3d2cb769f2ae24d09db3c0694ebedcfadd80224/base/dates/arithmetic.jl#L62\" target=\"_blank\">dates/arithmetic.jl:62</a><li> +(x::<b>Base.Dates.DateTime</b>, y::<b>Base.Dates.Period</b>) at <a href=\"https://github.com/JuliaLang/julia/tree/e3d2cb769f2ae24d09db3c0694ebedcfadd80224/base/dates/arithmetic.jl#L64\" target=\"_blank\">dates/arithmetic.jl:64</a><li> +(x::<b>Base.Dates.TimeType</b>) at <a href=\"https://github.com/JuliaLang/julia/tree/e3d2cb769f2ae24d09db3c0694ebedcfadd80224/base/dates/arithmetic.jl#L8\" target=\"_blank\">dates/arithmetic.jl:8</a><li> +(a::<b>Base.Dates.TimeType</b>, b::<b>Base.Dates.Period</b>, c::<b>Base.Dates.Period</b>) at <a href=\"https://github.com/JuliaLang/julia/tree/e3d2cb769f2ae24d09db3c0694ebedcfadd80224/base/dates/periods.jl#L227\" target=\"_blank\">dates/periods.jl:227</a><li> +(a::<b>Base.Dates.TimeType</b>, b::<b>Base.Dates.Period</b>, c::<b>Base.Dates.Period</b>, d::<b>Base.Dates.Period...</b>) at <a href=\"https://github.com/JuliaLang/julia/tree/e3d2cb769f2ae24d09db3c0694ebedcfadd80224/base/dates/periods.jl#L229\" target=\"_blank\">dates/periods.jl:229</a><li> +(x::<b>Base.Dates.TimeType</b>, y::<b>Base.Dates.CompoundPeriod</b>) at <a href=\"https://github.com/JuliaLang/julia/tree/e3d2cb769f2ae24d09db3c0694ebedcfadd80224/base/dates/periods.jl#L233\" target=\"_blank\">dates/periods.jl:233</a><li> +(x::<b>Base.Dates.Instant</b>) at <a href=\"https://github.com/JuliaLang/julia/tree/e3d2cb769f2ae24d09db3c0694ebedcfadd80224/base/dates/arithmetic.jl#L4\" target=\"_blank\">dates/arithmetic.jl:4</a><li> +<i>{T<:Base.Dates.TimeType}</i>(x::<b>AbstractArray{T<:Base.Dates.TimeType,N}</b>, y::<b>Union{Base.Dates.CompoundPeriod,Base.Dates.Period}</b>) at <a href=\"https://github.com/JuliaLang/julia/tree/e3d2cb769f2ae24d09db3c0694ebedcfadd80224/base/dates/arithmetic.jl#L76\" target=\"_blank\">dates/arithmetic.jl:76</a><li> +<i>{T<:Base.Dates.TimeType}</i>(y::<b>Union{Base.Dates.CompoundPeriod,Base.Dates.Period}</b>, x::<b>AbstractArray{T<:Base.Dates.TimeType,N}</b>) at <a href=\"https://github.com/JuliaLang/julia/tree/e3d2cb769f2ae24d09db3c0694ebedcfadd80224/base/dates/arithmetic.jl#L77\" target=\"_blank\">dates/arithmetic.jl:77</a><li> +<i>{P<:Union{Base.Dates.CompoundPeriod,Base.Dates.Period}}</i>(y::<b>Base.Dates.TimeType</b>, x::<b>Union{DenseArray{P<:Union{Base.Dates.CompoundPeriod,Base.Dates.Period},N},SubArray{P<:Union{Base.Dates.CompoundPeriod,Base.Dates.Period},N,A<:DenseArray{T,N},I<:Tuple{Vararg{Union{Colon,Int64,Range{Int64}}}},LD}}</b>) at <a href=\"https://github.com/JuliaLang/julia/tree/e3d2cb769f2ae24d09db3c0694ebedcfadd80224/base/dates/arithmetic.jl#L84\" target=\"_blank\">dates/arithmetic.jl:84</a><li> +(a, b, c, xs...) at <a href=\"https://github.com/JuliaLang/julia/tree/e3d2cb769f2ae24d09db3c0694ebedcfadd80224/base/operators.jl#L97\" target=\"_blank\">operators.jl:97</a></ul>"
      ],
      "text/plain": [
       "# 149 methods for generic function \"+\":\n",
       "+(x::Bool) at bool.jl:33\n",
       "+(x::Bool, y::Bool) at bool.jl:36\n",
       "+(y::AbstractFloat, x::Bool) at bool.jl:46\n",
       "+(x::Int64, y::Int64) at int.jl:8\n",
       "+(x::Int8, y::Int8) at int.jl:16\n",
       "+(x::UInt8, y::UInt8) at int.jl:16\n",
       "+(x::Int16, y::Int16) at int.jl:16\n",
       "+(x::UInt16, y::UInt16) at int.jl:16\n",
       "+(x::Int32, y::Int32) at int.jl:16\n",
       "+(x::UInt32, y::UInt32) at int.jl:16\n",
       "+(x::UInt64, y::UInt64) at int.jl:16\n",
       "+(x::Int128, y::Int128) at int.jl:16\n",
       "+(x::UInt128, y::UInt128) at int.jl:16\n",
       "+(x::Integer, y::Ptr{T}) at pointer.jl:77\n",
       "+(x::Float32, y::Float32) at float.jl:203\n",
       "+(x::Float64, y::Float64) at float.jl:204\n",
       "+(z::Complex{T<:Real}, w::Complex{T<:Real}) at complex.jl:112\n",
       "+(x::Real, z::Complex{T<:Real}) at complex.jl:122\n",
       "+(z::Complex{T<:Real}, x::Real) at complex.jl:123\n",
       "+(x::Rational{T<:Integer}, y::Rational{T<:Integer}) at rational.jl:170\n",
       "+(x::Bool, A::AbstractArray{Bool,N}) at arraymath.jl:136\n",
       "+(x::Integer, y::Char) at char.jl:44\n",
       "+(a::Float16, b::Float16) at float16.jl:136\n",
       "+(x::Base.GMP.BigInt, y::Base.GMP.BigInt) at gmp.jl:246\n",
       "+(a::Base.GMP.BigInt, b::Base.GMP.BigInt, c::Base.GMP.BigInt) at gmp.jl:269\n",
       "+(a::Base.GMP.BigInt, b::Base.GMP.BigInt, c::Base.GMP.BigInt, d::Base.GMP.BigInt) at gmp.jl:275\n",
       "+(a::Base.GMP.BigInt, b::Base.GMP.BigInt, c::Base.GMP.BigInt, d::Base.GMP.BigInt, e::Base.GMP.BigInt) at gmp.jl:282\n",
       "+(x::Base.GMP.BigInt, c::Union{UInt16,UInt32,UInt64,UInt8}) at gmp.jl:294\n",
       "+(c::Union{UInt16,UInt32,UInt64,UInt8}, x::Base.GMP.BigInt) at gmp.jl:298\n",
       "+(x::Base.GMP.BigInt, c::Union{Int16,Int32,Int64,Int8}) at gmp.jl:310\n",
       "+(c::Union{Int16,Int32,Int64,Int8}, x::Base.GMP.BigInt) at gmp.jl:311\n",
       "+(x::Base.MPFR.BigFloat, y::Base.MPFR.BigFloat) at mpfr.jl:208\n",
       "+(x::Base.MPFR.BigFloat, c::Union{UInt16,UInt32,UInt64,UInt8}) at mpfr.jl:215\n",
       "+(c::Union{UInt16,UInt32,UInt64,UInt8}, x::Base.MPFR.BigFloat) at mpfr.jl:219\n",
       "+(x::Base.MPFR.BigFloat, c::Union{Int16,Int32,Int64,Int8}) at mpfr.jl:223\n",
       "+(c::Union{Int16,Int32,Int64,Int8}, x::Base.MPFR.BigFloat) at mpfr.jl:227\n",
       "+(x::Base.MPFR.BigFloat, c::Union{Float16,Float32,Float64}) at mpfr.jl:231\n",
       "+(c::Union{Float16,Float32,Float64}, x::Base.MPFR.BigFloat) at mpfr.jl:235\n",
       "+(x::Base.MPFR.BigFloat, c::Base.GMP.BigInt) at mpfr.jl:239\n",
       "+(c::Base.GMP.BigInt, x::Base.MPFR.BigFloat) at mpfr.jl:243\n",
       "+(a::Base.MPFR.BigFloat, b::Base.MPFR.BigFloat, c::Base.MPFR.BigFloat) at mpfr.jl:379\n",
       "+(a::Base.MPFR.BigFloat, b::Base.MPFR.BigFloat, c::Base.MPFR.BigFloat, d::Base.MPFR.BigFloat) at mpfr.jl:385\n",
       "+(a::Base.MPFR.BigFloat, b::Base.MPFR.BigFloat, c::Base.MPFR.BigFloat, d::Base.MPFR.BigFloat, e::Base.MPFR.BigFloat) at mpfr.jl:392\n",
       "+(x::Irrational{sym}, y::Irrational{sym}) at irrationals.jl:72\n",
       "+(x::Number) at operators.jl:73\n",
       "+{T<:Number}(x::T<:Number, y::T<:Number) at promotion.jl:211\n",
       "+{T<:AbstractFloat}(x::Bool, y::T<:AbstractFloat) at bool.jl:43\n",
       "+(x::Number, y::Number) at promotion.jl:167\n",
       "+(r1::OrdinalRange{T,S}, r2::OrdinalRange{T,S}) at operators.jl:324\n",
       "+{T<:AbstractFloat}(r1::FloatRange{T<:AbstractFloat}, r2::FloatRange{T<:AbstractFloat}) at operators.jl:331\n",
       "+{T<:AbstractFloat}(r1::LinSpace{T<:AbstractFloat}, r2::LinSpace{T<:AbstractFloat}) at operators.jl:350\n",
       "+(r1::Union{FloatRange{T<:AbstractFloat},LinSpace{T<:AbstractFloat},OrdinalRange{T,S}}, r2::Union{FloatRange{T<:AbstractFloat},LinSpace{T<:AbstractFloat},OrdinalRange{T,S}}) at operators.jl:363\n",
       "+(x::Ptr{T}, y::Integer) at pointer.jl:75\n",
       "+{S,T}(A::Range{S}, B::Range{T}) at arraymath.jl:69\n",
       "+{S,T}(A::Range{S}, B::AbstractArray{T,N}) at arraymath.jl:87\n",
       "+(A::BitArray{N}, B::BitArray{N}) at bitarray.jl:845\n",
       "+{T}(B::BitArray{2}, J::Base.LinAlg.UniformScaling{T}) at linalg/uniformscaling.jl:28\n",
       "+(A::Array{T,2}, B::Base.LinAlg.Diagonal{T}) at linalg/special.jl:122\n",
       "+(A::Array{T,2}, B::Base.LinAlg.Bidiagonal{T}) at linalg/special.jl:122\n",
       "+(A::Array{T,2}, B::Base.LinAlg.Tridiagonal{T}) at linalg/special.jl:122\n",
       "+(A::Array{T,2}, B::Base.LinAlg.SymTridiagonal{T}) at linalg/special.jl:131\n",
       "+(A::Array{T,N}, B::Base.SparseMatrix.SparseMatrixCSC{Tv,Ti<:Integer}) at sparse/sparsematrix.jl:899\n",
       "+{P<:Union{Base.Dates.CompoundPeriod,Base.Dates.Period}}(x::Union{DenseArray{P<:Union{Base.Dates.CompoundPeriod,Base.Dates.Period},N},SubArray{P<:Union{Base.Dates.CompoundPeriod,Base.Dates.Period},N,A<:DenseArray{T,N},I<:Tuple{Vararg{Union{Colon,Int64,Range{Int64}}}},LD}}) at dates/periods.jl:202\n",
       "+(A::AbstractArray{Bool,N}, x::Bool) at arraymath.jl:135\n",
       "+(A::Union{DenseArray{Bool,N},SubArray{Bool,N,A<:DenseArray{T,N},I<:Tuple{Vararg{Union{Colon,Int64,Range{Int64}}}},LD}}, B::Union{DenseArray{Bool,N},SubArray{Bool,N,A<:DenseArray{T,N},I<:Tuple{Vararg{Union{Colon,Int64,Range{Int64}}}},LD}}) at arraymath.jl:166\n",
       "+(A::Base.LinAlg.SymTridiagonal{T}, B::Base.LinAlg.SymTridiagonal{T}) at linalg/tridiag.jl:84\n",
       "+(A::Base.LinAlg.Tridiagonal{T}, B::Base.LinAlg.Tridiagonal{T}) at linalg/tridiag.jl:404\n",
       "+(A::Base.LinAlg.UpperTriangular{T,S<:AbstractArray{T,2}}, B::Base.LinAlg.UpperTriangular{T,S<:AbstractArray{T,2}}) at linalg/triangular.jl:346\n",
       "+(A::Base.LinAlg.LowerTriangular{T,S<:AbstractArray{T,2}}, B::Base.LinAlg.LowerTriangular{T,S<:AbstractArray{T,2}}) at linalg/triangular.jl:347\n",
       "+(A::Base.LinAlg.UpperTriangular{T,S<:AbstractArray{T,2}}, B::Base.LinAlg.UnitUpperTriangular{T,S<:AbstractArray{T,2}}) at linalg/triangular.jl:348\n",
       "+(A::Base.LinAlg.LowerTriangular{T,S<:AbstractArray{T,2}}, B::Base.LinAlg.UnitLowerTriangular{T,S<:AbstractArray{T,2}}) at linalg/triangular.jl:349\n",
       "+(A::Base.LinAlg.UnitUpperTriangular{T,S<:AbstractArray{T,2}}, B::Base.LinAlg.UpperTriangular{T,S<:AbstractArray{T,2}}) at linalg/triangular.jl:350\n",
       "+(A::Base.LinAlg.UnitLowerTriangular{T,S<:AbstractArray{T,2}}, B::Base.LinAlg.LowerTriangular{T,S<:AbstractArray{T,2}}) at linalg/triangular.jl:351\n",
       "+(A::Base.LinAlg.UnitUpperTriangular{T,S<:AbstractArray{T,2}}, B::Base.LinAlg.UnitUpperTriangular{T,S<:AbstractArray{T,2}}) at linalg/triangular.jl:352\n",
       "+(A::Base.LinAlg.UnitLowerTriangular{T,S<:AbstractArray{T,2}}, B::Base.LinAlg.UnitLowerTriangular{T,S<:AbstractArray{T,2}}) at linalg/triangular.jl:353\n",
       "+(A::Base.LinAlg.AbstractTriangular{T,S<:AbstractArray{T,2}}, B::Base.LinAlg.AbstractTriangular{T,S<:AbstractArray{T,2}}) at linalg/triangular.jl:354\n",
       "+(Da::Base.LinAlg.Diagonal{T}, Db::Base.LinAlg.Diagonal{T}) at linalg/diagonal.jl:82\n",
       "+(A::Base.LinAlg.Bidiagonal{T}, B::Base.LinAlg.Bidiagonal{T}) at linalg/bidiag.jl:176\n",
       "+(UL::Base.LinAlg.UpperTriangular{T,S<:AbstractArray{T,2}}, J::Base.LinAlg.UniformScaling{T<:Number}) at linalg/uniformscaling.jl:45\n",
       "+(UL::Base.LinAlg.UnitUpperTriangular{T,S<:AbstractArray{T,2}}, J::Base.LinAlg.UniformScaling{T<:Number}) at linalg/uniformscaling.jl:48\n",
       "+(UL::Base.LinAlg.LowerTriangular{T,S<:AbstractArray{T,2}}, J::Base.LinAlg.UniformScaling{T<:Number}) at linalg/uniformscaling.jl:45\n",
       "+(UL::Base.LinAlg.UnitLowerTriangular{T,S<:AbstractArray{T,2}}, J::Base.LinAlg.UniformScaling{T<:Number}) at linalg/uniformscaling.jl:48\n",
       "+(A::Base.LinAlg.Diagonal{T}, B::Base.LinAlg.Bidiagonal{T}) at linalg/special.jl:121\n",
       "+(A::Base.LinAlg.Bidiagonal{T}, B::Base.LinAlg.Diagonal{T}) at linalg/special.jl:122\n",
       "+(A::Base.LinAlg.Diagonal{T}, B::Base.LinAlg.Tridiagonal{T}) at linalg/special.jl:121\n",
       "+(A::Base.LinAlg.Tridiagonal{T}, B::Base.LinAlg.Diagonal{T}) at linalg/special.jl:122\n",
       "+(A::Base.LinAlg.Diagonal{T}, B::Array{T,2}) at linalg/special.jl:121\n",
       "+(A::Base.LinAlg.Bidiagonal{T}, B::Base.LinAlg.Tridiagonal{T}) at linalg/special.jl:121\n",
       "+(A::Base.LinAlg.Tridiagonal{T}, B::Base.LinAlg.Bidiagonal{T}) at linalg/special.jl:122\n",
       "+(A::Base.LinAlg.Bidiagonal{T}, B::Array{T,2}) at linalg/special.jl:121\n",
       "+(A::Base.LinAlg.Tridiagonal{T}, B::Array{T,2}) at linalg/special.jl:121\n",
       "+(A::Base.LinAlg.SymTridiagonal{T}, B::Base.LinAlg.Tridiagonal{T}) at linalg/special.jl:130\n",
       "+(A::Base.LinAlg.Tridiagonal{T}, B::Base.LinAlg.SymTridiagonal{T}) at linalg/special.jl:131\n",
       "+(A::Base.LinAlg.SymTridiagonal{T}, B::Array{T,2}) at linalg/special.jl:130\n",
       "+(A::Base.LinAlg.Diagonal{T}, B::Base.LinAlg.SymTridiagonal{T}) at linalg/special.jl:139\n",
       "+(A::Base.LinAlg.SymTridiagonal{T}, B::Base.LinAlg.Diagonal{T}) at linalg/special.jl:140\n",
       "+(A::Base.LinAlg.Bidiagonal{T}, B::Base.LinAlg.SymTridiagonal{T}) at linalg/special.jl:139\n",
       "+(A::Base.LinAlg.SymTridiagonal{T}, B::Base.LinAlg.Bidiagonal{T}) at linalg/special.jl:140\n",
       "+{Tv1,Ti1,Tv2,Ti2}(A_1::Base.SparseMatrix.SparseMatrixCSC{Tv1,Ti1}, A_2::Base.SparseMatrix.SparseMatrixCSC{Tv2,Ti2}) at sparse/sparsematrix.jl:885\n",
       "+(A::Base.SparseMatrix.SparseMatrixCSC{Tv,Ti<:Integer}, B::Array{T,N}) at sparse/sparsematrix.jl:897\n",
       "+(A::Base.SparseMatrix.SparseMatrixCSC{Tv,Ti<:Integer}, J::Base.LinAlg.UniformScaling{T<:Number}) at sparse/sparsematrix.jl:2852\n",
       "+{P<:Union{Base.Dates.CompoundPeriod,Base.Dates.Period}}(Y::Union{DenseArray{P<:Union{Base.Dates.CompoundPeriod,Base.Dates.Period},N},SubArray{P<:Union{Base.Dates.CompoundPeriod,Base.Dates.Period},N,A<:DenseArray{T,N},I<:Tuple{Vararg{Union{Colon,Int64,Range{Int64}}}},LD}}, x::Union{Base.Dates.CompoundPeriod,Base.Dates.Period}) at dates/periods.jl:216\n",
       "+{P<:Union{Base.Dates.CompoundPeriod,Base.Dates.Period},Q<:Union{Base.Dates.CompoundPeriod,Base.Dates.Period}}(X::Union{DenseArray{P<:Union{Base.Dates.CompoundPeriod,Base.Dates.Period},N},SubArray{P<:Union{Base.Dates.CompoundPeriod,Base.Dates.Period},N,A<:DenseArray{T,N},I<:Tuple{Vararg{Union{Colon,Int64,Range{Int64}}}},LD}}, Y::Union{DenseArray{Q<:Union{Base.Dates.CompoundPeriod,Base.Dates.Period},N},SubArray{Q<:Union{Base.Dates.CompoundPeriod,Base.Dates.Period},N,A<:DenseArray{T,N},I<:Tuple{Vararg{Union{Colon,Int64,Range{Int64}}}},LD}}) at dates/periods.jl:217\n",
       "+{T<:Base.Dates.TimeType,P<:Union{Base.Dates.CompoundPeriod,Base.Dates.Period}}(x::Union{DenseArray{P<:Union{Base.Dates.CompoundPeriod,Base.Dates.Period},N},SubArray{P<:Union{Base.Dates.CompoundPeriod,Base.Dates.Period},N,A<:DenseArray{T,N},I<:Tuple{Vararg{Union{Colon,Int64,Range{Int64}}}},LD}}, y::T<:Base.Dates.TimeType) at dates/arithmetic.jl:83\n",
       "+{T<:Base.Dates.TimeType}(r::Range{T<:Base.Dates.TimeType}, x::Base.Dates.Period) at dates/ranges.jl:39\n",
       "+{T<:Number}(x::AbstractArray{T<:Number,N}) at abstractarraymath.jl:49\n",
       "+{S,T}(A::AbstractArray{S,N}, B::Range{T}) at arraymath.jl:78\n",
       "+{S,T}(A::AbstractArray{S,N}, B::AbstractArray{T,N}) at arraymath.jl:96\n",
       "+(A::AbstractArray{T,N}, x::Number) at arraymath.jl:139\n",
       "+(x::Number, A::AbstractArray{T,N}) at arraymath.jl:140\n",
       "+(x::Char, y::Integer) at char.jl:43\n",
       "+{N}(index1::Base.IteratorsMD.CartesianIndex{N}, index2::Base.IteratorsMD.CartesianIndex{N}) at multidimensional.jl:42\n",
       "+(J1::Base.LinAlg.UniformScaling{T<:Number}, J2::Base.LinAlg.UniformScaling{T<:Number}) at linalg/uniformscaling.jl:27\n",
       "+(J::Base.LinAlg.UniformScaling{T<:Number}, B::BitArray{2}) at linalg/uniformscaling.jl:29\n",
       "+(J::Base.LinAlg.UniformScaling{T<:Number}, A::AbstractArray{T,2}) at linalg/uniformscaling.jl:30\n",
       "+(J::Base.LinAlg.UniformScaling{T<:Number}, x::Number) at linalg/uniformscaling.jl:31\n",
       "+(x::Number, J::Base.LinAlg.UniformScaling{T<:Number}) at linalg/uniformscaling.jl:32\n",
       "+{TA,TJ}(A::AbstractArray{TA,2}, J::Base.LinAlg.UniformScaling{TJ}) at linalg/uniformscaling.jl:92\n",
       "+{T}(a::Base.Pkg.Resolve.VersionWeights.HierarchicalValue{T}, b::Base.Pkg.Resolve.VersionWeights.HierarchicalValue{T}) at pkg/resolve/versionweight.jl:23\n",
       "+(a::Base.Pkg.Resolve.VersionWeights.VWPreBuildItem, b::Base.Pkg.Resolve.VersionWeights.VWPreBuildItem) at pkg/resolve/versionweight.jl:85\n",
       "+(a::Base.Pkg.Resolve.VersionWeights.VWPreBuild, b::Base.Pkg.Resolve.VersionWeights.VWPreBuild) at pkg/resolve/versionweight.jl:131\n",
       "+(a::Base.Pkg.Resolve.VersionWeights.VersionWeight, b::Base.Pkg.Resolve.VersionWeights.VersionWeight) at pkg/resolve/versionweight.jl:185\n",
       "+(a::Base.Pkg.Resolve.MaxSum.FieldValues.FieldValue, b::Base.Pkg.Resolve.MaxSum.FieldValues.FieldValue) at pkg/resolve/fieldvalue.jl:44\n",
       "+{P<:Base.Dates.Period}(x::P<:Base.Dates.Period, y::P<:Base.Dates.Period) at dates/periods.jl:43\n",
       "+(x::Base.Dates.Period, y::Base.Dates.Period) at dates/periods.jl:190\n",
       "+(x::Base.Dates.CompoundPeriod, y::Base.Dates.Period) at dates/periods.jl:191\n",
       "+(y::Base.Dates.Period, x::Base.Dates.CompoundPeriod) at dates/periods.jl:192\n",
       "+(x::Base.Dates.CompoundPeriod, y::Base.Dates.CompoundPeriod) at dates/periods.jl:193\n",
       "+(x::Base.Dates.CompoundPeriod, y::Base.Dates.TimeType) at dates/periods.jl:238\n",
       "+(y::Base.Dates.Period, x::Base.Dates.TimeType) at dates/arithmetic.jl:66\n",
       "+{T<:Base.Dates.TimeType}(x::Base.Dates.Period, r::Range{T<:Base.Dates.TimeType}) at dates/ranges.jl:40\n",
       "+(x::Union{Base.Dates.CompoundPeriod,Base.Dates.Period}) at dates/periods.jl:201\n",
       "+{P<:Union{Base.Dates.CompoundPeriod,Base.Dates.Period}}(x::Union{Base.Dates.CompoundPeriod,Base.Dates.Period}, Y::Union{DenseArray{P<:Union{Base.Dates.CompoundPeriod,Base.Dates.Period},N},SubArray{P<:Union{Base.Dates.CompoundPeriod,Base.Dates.Period},N,A<:DenseArray{T,N},I<:Tuple{Vararg{Union{Colon,Int64,Range{Int64}}}},LD}}) at dates/periods.jl:215\n",
       "+(dt::Base.Dates.DateTime, y::Base.Dates.Year) at dates/arithmetic.jl:13\n",
       "+(dt::Base.Dates.Date, y::Base.Dates.Year) at dates/arithmetic.jl:17\n",
       "+(dt::Base.Dates.DateTime, z::Base.Dates.Month) at dates/arithmetic.jl:37\n",
       "+(dt::Base.Dates.Date, z::Base.Dates.Month) at dates/arithmetic.jl:43\n",
       "+(x::Base.Dates.Date, y::Base.Dates.Week) at dates/arithmetic.jl:60\n",
       "+(x::Base.Dates.Date, y::Base.Dates.Day) at dates/arithmetic.jl:62\n",
       "+(x::Base.Dates.DateTime, y::Base.Dates.Period) at dates/arithmetic.jl:64\n",
       "+(x::Base.Dates.TimeType) at dates/arithmetic.jl:8\n",
       "+(a::Base.Dates.TimeType, b::Base.Dates.Period, c::Base.Dates.Period) at dates/periods.jl:227\n",
       "+(a::Base.Dates.TimeType, b::Base.Dates.Period, c::Base.Dates.Period, d::Base.Dates.Period...) at dates/periods.jl:229\n",
       "+(x::Base.Dates.TimeType, y::Base.Dates.CompoundPeriod) at dates/periods.jl:233\n",
       "+(x::Base.Dates.Instant) at dates/arithmetic.jl:4\n",
       "+{T<:Base.Dates.TimeType}(x::AbstractArray{T<:Base.Dates.TimeType,N}, y::Union{Base.Dates.CompoundPeriod,Base.Dates.Period}) at dates/arithmetic.jl:76\n",
       "+{T<:Base.Dates.TimeType}(y::Union{Base.Dates.CompoundPeriod,Base.Dates.Period}, x::AbstractArray{T<:Base.Dates.TimeType,N}) at dates/arithmetic.jl:77\n",
       "+{P<:Union{Base.Dates.CompoundPeriod,Base.Dates.Period}}(y::Base.Dates.TimeType, x::Union{DenseArray{P<:Union{Base.Dates.CompoundPeriod,Base.Dates.Period},N},SubArray{P<:Union{Base.Dates.CompoundPeriod,Base.Dates.Period},N,A<:DenseArray{T,N},I<:Tuple{Vararg{Union{Colon,Int64,Range{Int64}}}},LD}}) at dates/arithmetic.jl:84\n",
       "+(a, b, c, xs...) at operators.jl:97"
      ]
     },
     "execution_count": 61,
     "metadata": {},
     "output_type": "execute_result"
    }
   ],
   "source": [
    "methods(+)"
   ]
  },
  {
   "cell_type": "markdown",
   "metadata": {},
   "source": [
    "El resultado de la última celda muestra que hay varios métodos (149) definidos en este momento en la sesión que estoy usando. Además, muestra un montón de otros tipos que no se habían mencionado."
   ]
  },
  {
   "cell_type": "markdown",
   "metadata": {},
   "source": [
    "El punto es que hay tipos concretos, como `Float64` o `Int32`, y *también* tipos abstractos, como `Number` o `Integer`."
   ]
  },
  {
   "cell_type": "markdown",
   "metadata": {},
   "source": [
    "Los tipos se organizan en un árbol jerárquico. Todo es de tipo `Any`, y la ausencia de \n",
    "tipo es `Void` (en Julia v0.3, `Void` es `Nothing`)."
   ]
  },
  {
   "cell_type": "code",
   "execution_count": null,
   "metadata": {
    "collapsed": false
   },
   "outputs": [],
   "source": [
    "isa(3.2,Any)"
   ]
  },
  {
   "cell_type": "code",
   "execution_count": null,
   "metadata": {
    "collapsed": false
   },
   "outputs": [],
   "source": [
    "isa(3, Float64)"
   ]
  },
  {
   "cell_type": "code",
   "execution_count": null,
   "metadata": {
    "collapsed": false
   },
   "outputs": [],
   "source": [
    "isa(nothing, Void)"
   ]
  },
  {
   "cell_type": "code",
   "execution_count": null,
   "metadata": {
    "collapsed": false
   },
   "outputs": [],
   "source": [
    "nn() = return\n",
    "\n",
    "typeof( nn() )"
   ]
  },
  {
   "cell_type": "markdown",
   "metadata": {},
   "source": [
    "Para saber la estructura del árbol jerárquico, uno utiliza `super` para saber lo que está arriba, o `subtypes`"
   ]
  },
  {
   "cell_type": "code",
   "execution_count": null,
   "metadata": {
    "collapsed": false
   },
   "outputs": [],
   "source": [
    "super(Float64)"
   ]
  },
  {
   "cell_type": "code",
   "execution_count": null,
   "metadata": {
    "collapsed": false
   },
   "outputs": [],
   "source": [
    "super(AbstractFloat)"
   ]
  },
  {
   "cell_type": "markdown",
   "metadata": {},
   "source": [
    "(En Julia v0.3, el resultado anterior es `FloatingPoint`.)"
   ]
  },
  {
   "cell_type": "code",
   "execution_count": null,
   "metadata": {
    "collapsed": false
   },
   "outputs": [],
   "source": [
    "super(AbstractFloat)"
   ]
  },
  {
   "cell_type": "code",
   "execution_count": null,
   "metadata": {
    "collapsed": false
   },
   "outputs": [],
   "source": [
    "super(Real)"
   ]
  },
  {
   "cell_type": "code",
   "execution_count": null,
   "metadata": {
    "collapsed": false
   },
   "outputs": [],
   "source": [
    "super(Number)"
   ]
  },
  {
   "cell_type": "markdown",
   "metadata": {},
   "source": [
    "Y ahora los subtipos:"
   ]
  },
  {
   "cell_type": "code",
   "execution_count": null,
   "metadata": {
    "collapsed": false
   },
   "outputs": [],
   "source": [
    "subtypes(Integer)"
   ]
  },
  {
   "cell_type": "markdown",
   "metadata": {},
   "source": [
    "En Julia v0.3 el resultado de la celda anterior es\n",
    "```julia\n",
    "5-element Array{Any,1}:\n",
    " BigInt  \n",
    " Bool    \n",
    " Char    \n",
    " Signed  \n",
    " Unsigned\n",
    "```"
   ]
  },
  {
   "cell_type": "code",
   "execution_count": null,
   "metadata": {
    "collapsed": false
   },
   "outputs": [],
   "source": [
    "subtypes(Bool)"
   ]
  },
  {
   "cell_type": "code",
   "execution_count": 11,
   "metadata": {
    "collapsed": false
   },
   "outputs": [
    {
     "data": {
      "text/plain": [
       "4-element Array{Any,1}:\n",
       " AbstractFloat       \n",
       " Integer             \n",
       " Irrational{sym}     \n",
       " Rational{T<:Integer}"
      ]
     },
     "execution_count": 11,
     "metadata": {},
     "output_type": "execute_result"
    }
   ],
   "source": [
    "subtypes(Real)"
   ]
  },
  {
   "cell_type": "code",
   "execution_count": null,
   "metadata": {
    "collapsed": false
   },
   "outputs": [],
   "source": [
    "subtypes(Number)"
   ]
  },
  {
   "cell_type": "code",
   "execution_count": null,
   "metadata": {
    "collapsed": false
   },
   "outputs": [],
   "source": [
    "complex(1,4)"
   ]
  },
  {
   "cell_type": "code",
   "execution_count": null,
   "metadata": {
    "collapsed": false
   },
   "outputs": [],
   "source": [
    "typeof(ans)"
   ]
  },
  {
   "cell_type": "markdown",
   "metadata": {},
   "source": [
    "# Construyendo tipos propios (*tipos compuestos*)"
   ]
  },
  {
   "cell_type": "markdown",
   "metadata": {},
   "source": [
    "En Julia, al igual que en todo lenguaje moderno que se precie de serlo, uno puede definir sus propias estructuras, lo que también se llama *tipos compuestos*. Esto da un manejo más versatil de los datos que definen las cantidades en que estamos interesados."
   ]
  },
  {
   "cell_type": "markdown",
   "metadata": {},
   "source": [
    "Para definir una nueva estructura de tipo usamos `type`."
   ]
  },
  {
   "cell_type": "markdown",
   "metadata": {},
   "source": [
    "Para ejemplificar esto, construiremos primero un vector de dos dimensiones, que llamaremos `Vec2Dtemp`"
   ]
  },
  {
   "cell_type": "code",
   "execution_count": 1,
   "metadata": {
    "collapsed": true
   },
   "outputs": [],
   "source": [
    "type Vec2Dtemp\n",
    "    x\n",
    "    y\n",
    "end"
   ]
  },
  {
   "cell_type": "code",
   "execution_count": 3,
   "metadata": {
    "collapsed": false
   },
   "outputs": [
    {
     "data": {
      "text/plain": [
       "Vec2Dtemp(1,2)"
      ]
     },
     "execution_count": 3,
     "metadata": {},
     "output_type": "execute_result"
    }
   ],
   "source": [
    "vv = Vec2Dtemp(1,2)"
   ]
  },
  {
   "cell_type": "code",
   "execution_count": 4,
   "metadata": {
    "collapsed": false
   },
   "outputs": [
    {
     "data": {
      "text/plain": [
       "Vec2Dtemp"
      ]
     },
     "execution_count": 4,
     "metadata": {},
     "output_type": "execute_result"
    }
   ],
   "source": [
    "typeof(vv)"
   ]
  },
  {
   "cell_type": "code",
   "execution_count": 5,
   "metadata": {
    "collapsed": false
   },
   "outputs": [
    {
     "data": {
      "text/plain": [
       "(1,2)"
      ]
     },
     "execution_count": 5,
     "metadata": {},
     "output_type": "execute_result"
    }
   ],
   "source": [
    "vv.x, vv.y"
   ]
  },
  {
   "cell_type": "markdown",
   "metadata": {},
   "source": [
    "La sutileza, que de hecho es un *problema*, de la definición anterior es que es *demasiado general*. Por ejemplo:"
   ]
  },
  {
   "cell_type": "code",
   "execution_count": 6,
   "metadata": {
    "collapsed": false
   },
   "outputs": [
    {
     "data": {
      "text/plain": [
       "Vec2Dtemp(\"perro\",1)"
      ]
     },
     "execution_count": 6,
     "metadata": {},
     "output_type": "execute_result"
    }
   ],
   "source": [
    "Vec2Dtemp(\"perro\", 1)"
   ]
  },
  {
   "cell_type": "code",
   "execution_count": 7,
   "metadata": {
    "collapsed": false
   },
   "outputs": [
    {
     "data": {
      "text/plain": [
       "\"perro\""
      ]
     },
     "execution_count": 7,
     "metadata": {},
     "output_type": "execute_result"
    }
   ],
   "source": [
    "ans.x"
   ]
  },
  {
   "cell_type": "markdown",
   "metadata": {},
   "source": [
    "Quizás esto es lo que queremos, pero en general queremos darle cierta estructura definida a nuestros datos, cosa que en Julia significa ayudarle al compilador a hacer código eficiente. En este caso particular, nos interesa lidiar con números únicamente."
   ]
  },
  {
   "cell_type": "code",
   "execution_count": 8,
   "metadata": {
    "collapsed": true
   },
   "outputs": [],
   "source": [
    "type Vec2DTT\n",
    "    x :: Real\n",
    "    y :: Real\n",
    "end"
   ]
  },
  {
   "cell_type": "code",
   "execution_count": 12,
   "metadata": {
    "collapsed": false
   },
   "outputs": [
    {
     "data": {
      "text/plain": [
       "Vec2DTT(1,2.3)"
      ]
     },
     "execution_count": 12,
     "metadata": {},
     "output_type": "execute_result"
    }
   ],
   "source": [
    "Vec2DTT(1, 2.3)"
   ]
  },
  {
   "cell_type": "code",
   "execution_count": 13,
   "metadata": {
    "collapsed": false
   },
   "outputs": [
    {
     "data": {
      "text/plain": [
       "(Int64,Float64)"
      ]
     },
     "execution_count": 13,
     "metadata": {},
     "output_type": "execute_result"
    }
   ],
   "source": [
    "typeof(ans.x), typeof(ans.y)"
   ]
  },
  {
   "cell_type": "code",
   "execution_count": 17,
   "metadata": {
    "collapsed": false
   },
   "outputs": [
    {
     "ename": "LoadError",
     "evalue": "LoadError: MethodError: `convert` has no method matching convert(::Type{Real}, ::ASCIIString)\nThis may have arisen from a call to the constructor Real(...),\nsince type constructors fall back to convert methods.\nClosest candidates are:\n  call{T}(::Type{T}, ::Any)\n  convert{T<:Real}(::Type{T<:Real}, !Matched::Complex{T<:Real})\n  convert{T<:Number}(::Type{T<:Number}, !Matched::Char)\n  ...\nwhile loading In[17], in expression starting on line 1",
     "output_type": "error",
     "traceback": [
      "LoadError: MethodError: `convert` has no method matching convert(::Type{Real}, ::ASCIIString)\nThis may have arisen from a call to the constructor Real(...),\nsince type constructors fall back to convert methods.\nClosest candidates are:\n  call{T}(::Type{T}, ::Any)\n  convert{T<:Real}(::Type{T<:Real}, !Matched::Complex{T<:Real})\n  convert{T<:Number}(::Type{T<:Number}, !Matched::Char)\n  ...\nwhile loading In[17], in expression starting on line 1",
      "",
      " in call at In[8]:2"
     ]
    }
   ],
   "source": [
    "Vec2DTT(\"gato\", 2.3)"
   ]
  },
  {
   "cell_type": "code",
   "execution_count": 18,
   "metadata": {
    "collapsed": false
   },
   "outputs": [
    {
     "data": {
      "text/plain": [
       "true"
      ]
     },
     "execution_count": 18,
     "metadata": {},
     "output_type": "execute_result"
    }
   ],
   "source": [
    "Int64 <: Real"
   ]
  },
  {
   "cell_type": "code",
   "execution_count": 19,
   "metadata": {
    "collapsed": false
   },
   "outputs": [
    {
     "data": {
      "text/plain": [
       "Function"
      ]
     },
     "execution_count": 19,
     "metadata": {},
     "output_type": "execute_result"
    }
   ],
   "source": [
    "typeof(<:)"
   ]
  },
  {
   "cell_type": "code",
   "execution_count": 23,
   "metadata": {
    "collapsed": true
   },
   "outputs": [],
   "source": [
    "type Vec2d4\n",
    "    x :: Int\n",
    "    y :: Float64\n",
    "end"
   ]
  },
  {
   "cell_type": "code",
   "execution_count": 27,
   "metadata": {
    "collapsed": false
   },
   "outputs": [
    {
     "ename": "LoadError",
     "evalue": "LoadError: InexactError()\nwhile loading In[27], in expression starting on line 1",
     "output_type": "error",
     "traceback": [
      "LoadError: InexactError()\nwhile loading In[27], in expression starting on line 1",
      "",
      " in call at In[23]:2"
     ]
    }
   ],
   "source": [
    "Vec2d4(1.1,2)"
   ]
  },
  {
   "cell_type": "code",
   "execution_count": 28,
   "metadata": {
    "collapsed": false
   },
   "outputs": [
    {
     "data": {
      "text/plain": [
       "DataType"
      ]
     },
     "execution_count": 28,
     "metadata": {},
     "output_type": "execute_result"
    }
   ],
   "source": [
    "typeof(Float64)"
   ]
  },
  {
   "cell_type": "code",
   "execution_count": 29,
   "metadata": {
    "collapsed": false
   },
   "outputs": [
    {
     "data": {
      "text/plain": [
       "pr (generic function with 1 method)"
      ]
     },
     "execution_count": 29,
     "metadata": {},
     "output_type": "execute_result"
    }
   ],
   "source": [
    "pr(x) = (println(x); x)"
   ]
  },
  {
   "cell_type": "code",
   "execution_count": 31,
   "metadata": {
    "collapsed": false
   },
   "outputs": [
    {
     "name": "stdout",
     "output_type": "stream",
     "text": [
      "false\n"
     ]
    },
    {
     "data": {
      "text/plain": [
       "false"
      ]
     },
     "execution_count": 31,
     "metadata": {},
     "output_type": "execute_result"
    }
   ],
   "source": [
    "pr(2 == 4)"
   ]
  },
  {
   "cell_type": "code",
   "execution_count": 33,
   "metadata": {
    "collapsed": false
   },
   "outputs": [
    {
     "name": "stdout",
     "output_type": "stream",
     "text": [
      "false\n"
     ]
    },
    {
     "data": {
      "text/plain": [
       "false"
      ]
     },
     "execution_count": 33,
     "metadata": {},
     "output_type": "execute_result"
    }
   ],
   "source": [
    "pr(2>3) && pr(3>2)"
   ]
  },
  {
   "cell_type": "code",
   "execution_count": 34,
   "metadata": {
    "collapsed": true
   },
   "outputs": [],
   "source": [
    "type Vec2D{ T <: Real }\n",
    "    x :: T\n",
    "    y :: T\n",
    "end"
   ]
  },
  {
   "cell_type": "code",
   "execution_count": 53,
   "metadata": {
    "collapsed": false
   },
   "outputs": [
    {
     "data": {
      "text/plain": [
       "Vec2D{Float64}(1.2,2.3)"
      ]
     },
     "execution_count": 53,
     "metadata": {},
     "output_type": "execute_result"
    }
   ],
   "source": [
    "aa = Vec2D(1.2,2.3)"
   ]
  },
  {
   "cell_type": "code",
   "execution_count": 54,
   "metadata": {
    "collapsed": false
   },
   "outputs": [
    {
     "data": {
      "text/plain": [
       "Vec2D{Float64}"
      ]
     },
     "execution_count": 54,
     "metadata": {},
     "output_type": "execute_result"
    }
   ],
   "source": [
    "typeof(aa)"
   ]
  },
  {
   "cell_type": "code",
   "execution_count": 36,
   "metadata": {
    "collapsed": false
   },
   "outputs": [
    {
     "data": {
      "text/plain": [
       "Vec2D{Int64}(-6,5)"
      ]
     },
     "execution_count": 36,
     "metadata": {},
     "output_type": "execute_result"
    }
   ],
   "source": [
    "Vec2D(-6, 5)"
   ]
  },
  {
   "cell_type": "markdown",
   "metadata": {},
   "source": [
    "Vale la pena notar que `Vec2D` distingue si sus elementos son `Int64` o `Float64`, u otra cosa.."
   ]
  },
  {
   "cell_type": "markdown",
   "metadata": {},
   "source": [
    "Pero hay diferencias importantes:"
   ]
  },
  {
   "cell_type": "code",
   "execution_count": 37,
   "metadata": {
    "collapsed": false
   },
   "outputs": [
    {
     "ename": "LoadError",
     "evalue": "LoadError: MethodError: `convert` has no method matching convert(::Type{Vec2D{T<:Real}}, ::ASCIIString, ::Int64)\nThis may have arisen from a call to the constructor Vec2D{T<:Real}(...),\nsince type constructors fall back to convert methods.\nClosest candidates are:\n  Vec2D{T<:Real}(!Matched::T<:Real, ::T<:Real)\n  call{T}(::Type{T}, ::Any)\n  convert{T}(::Type{T}, !Matched::T)\nwhile loading In[37], in expression starting on line 1",
     "output_type": "error",
     "traceback": [
      "LoadError: MethodError: `convert` has no method matching convert(::Type{Vec2D{T<:Real}}, ::ASCIIString, ::Int64)\nThis may have arisen from a call to the constructor Vec2D{T<:Real}(...),\nsince type constructors fall back to convert methods.\nClosest candidates are:\n  Vec2D{T<:Real}(!Matched::T<:Real, ::T<:Real)\n  call{T}(::Type{T}, ::Any)\n  convert{T}(::Type{T}, !Matched::T)\nwhile loading In[37], in expression starting on line 1",
      "",
      " in call at essentials.jl:58"
     ]
    }
   ],
   "source": [
    "Vec2D(\"perro\", 2)"
   ]
  },
  {
   "cell_type": "code",
   "execution_count": 40,
   "metadata": {
    "collapsed": false
   },
   "outputs": [
    {
     "ename": "LoadError",
     "evalue": "LoadError: MethodError: `convert` has no method matching convert(::Type{Vec2D{T<:Real}}, ::Int64, ::Float64)\nThis may have arisen from a call to the constructor Vec2D{T<:Real}(...),\nsince type constructors fall back to convert methods.\nClosest candidates are:\n  Vec2D{T<:Real}(::T<:Real, !Matched::T<:Real)\n  call{T}(::Type{T}, ::Any)\n  convert{T}(::Type{T}, !Matched::T)\nwhile loading In[40], in expression starting on line 1",
     "output_type": "error",
     "traceback": [
      "LoadError: MethodError: `convert` has no method matching convert(::Type{Vec2D{T<:Real}}, ::Int64, ::Float64)\nThis may have arisen from a call to the constructor Vec2D{T<:Real}(...),\nsince type constructors fall back to convert methods.\nClosest candidates are:\n  Vec2D{T<:Real}(::T<:Real, !Matched::T<:Real)\n  call{T}(::Type{T}, ::Any)\n  convert{T}(::Type{T}, !Matched::T)\nwhile loading In[40], in expression starting on line 1",
      "",
      " in call at essentials.jl:58"
     ]
    }
   ],
   "source": [
    "Vec2D(1, 2.0)"
   ]
  },
  {
   "cell_type": "markdown",
   "metadata": {},
   "source": [
    "Para resolver el último caso, usamos `promote`"
   ]
  },
  {
   "cell_type": "code",
   "execution_count": 55,
   "metadata": {
    "collapsed": false
   },
   "outputs": [
    {
     "data": {
      "text/plain": [
       "(1.2,2.0)"
      ]
     },
     "execution_count": 55,
     "metadata": {},
     "output_type": "execute_result"
    }
   ],
   "source": [
    "promote(1.2, 2)"
   ]
  },
  {
   "cell_type": "code",
   "execution_count": 50,
   "metadata": {
    "collapsed": false
   },
   "outputs": [
    {
     "ename": "LoadError",
     "evalue": "LoadError: MethodError: `convert` has no method matching convert(::Type{Vec2D{T<:Real}}, ::Tuple{Float64,Float64})\nThis may have arisen from a call to the constructor Vec2D{T<:Real}(...),\nsince type constructors fall back to convert methods.\nClosest candidates are:\n  call{T}(::Type{T}, ::Any)\n  convert{T}(::Type{T}, !Matched::T)\n  Vec2D{T<:Real}(!Matched::T<:Real, !Matched::T<:Real)\nwhile loading In[50], in expression starting on line 1",
     "output_type": "error",
     "traceback": [
      "LoadError: MethodError: `convert` has no method matching convert(::Type{Vec2D{T<:Real}}, ::Tuple{Float64,Float64})\nThis may have arisen from a call to the constructor Vec2D{T<:Real}(...),\nsince type constructors fall back to convert methods.\nClosest candidates are:\n  call{T}(::Type{T}, ::Any)\n  convert{T}(::Type{T}, !Matched::T)\n  Vec2D{T<:Real}(!Matched::T<:Real, !Matched::T<:Real)\nwhile loading In[50], in expression starting on line 1",
      "",
      " in call at essentials.jl:57"
     ]
    }
   ],
   "source": [
    "Vec2D( promote(1.2,2) )"
   ]
  },
  {
   "cell_type": "markdown",
   "metadata": {},
   "source": [
    "Aquí nos ayuda el operador *splat*, `...`, que son precisamente los (tres) puntos suspensivos:"
   ]
  },
  {
   "cell_type": "code",
   "execution_count": 52,
   "metadata": {
    "collapsed": false
   },
   "outputs": [
    {
     "data": {
      "text/plain": [
       "Vec2D{Float64}(1.2,2.0)"
      ]
     },
     "execution_count": 52,
     "metadata": {},
     "output_type": "execute_result"
    }
   ],
   "source": [
    "Vec2D( promote(1.2,2)... )"
   ]
  },
  {
   "cell_type": "markdown",
   "metadata": {},
   "source": [
    "Para evitar hacer esto a cada rato, definimos un nuevo método para `Vec2D`"
   ]
  },
  {
   "cell_type": "code",
   "execution_count": 56,
   "metadata": {
    "collapsed": false
   },
   "outputs": [
    {
     "data": {
      "text/html": [
       "0-element Array{Method,1}"
      ],
      "text/plain": [
       "0-element Array{Method,1}"
      ]
     },
     "execution_count": 56,
     "metadata": {},
     "output_type": "execute_result"
    }
   ],
   "source": [
    "methodswith(Vec2D)"
   ]
  },
  {
   "cell_type": "code",
   "execution_count": 57,
   "metadata": {
    "collapsed": false
   },
   "outputs": [
    {
     "data": {
      "text/plain": [
       "Vec2D{T<:Real}"
      ]
     },
     "execution_count": 57,
     "metadata": {},
     "output_type": "execute_result"
    }
   ],
   "source": [
    "Vec2D(a,b) = Vec2D(promote(a,b)...)"
   ]
  },
  {
   "cell_type": "code",
   "execution_count": 59,
   "metadata": {
    "collapsed": false
   },
   "outputs": [
    {
     "data": {
      "text/plain": [
       "4-element Array{Any,1}:\n",
       " call{T<:Real}(::Type{Vec2D{T<:Real}}, x::T<:Real, y::T<:Real) at In[34]:2\n",
       " call(::Type{Vec2D{T<:Real}}, a, b) at In[57]:1                           \n",
       " call{T}(::Type{T}, arg) at essentials.jl:57                              \n",
       " call{T}(::Type{T}, args...) at essentials.jl:58                          "
      ]
     },
     "execution_count": 59,
     "metadata": {},
     "output_type": "execute_result"
    }
   ],
   "source": [
    "methods(Vec2D)"
   ]
  },
  {
   "cell_type": "code",
   "execution_count": 60,
   "metadata": {
    "collapsed": false
   },
   "outputs": [
    {
     "data": {
      "text/plain": [
       "Vec2D{Float64}(1.0,2.3)"
      ]
     },
     "execution_count": 60,
     "metadata": {},
     "output_type": "execute_result"
    }
   ],
   "source": [
    "Vec2D(1, 2.3)"
   ]
  },
  {
   "cell_type": "code",
   "execution_count": 62,
   "metadata": {
    "collapsed": false
   },
   "outputs": [
    {
     "data": {
      "text/plain": [
       "(0.0 + 1.0im,2.3 + 0.0im)"
      ]
     },
     "execution_count": 62,
     "metadata": {},
     "output_type": "execute_result"
    }
   ],
   "source": [
    "promote(1im, 2.3)"
   ]
  },
  {
   "cell_type": "code",
   "execution_count": 64,
   "metadata": {
    "collapsed": false
   },
   "outputs": [
    {
     "data": {
      "text/plain": [
       "Vec2D{Float64}(1.0,2.3)"
      ]
     },
     "execution_count": 64,
     "metadata": {},
     "output_type": "execute_result"
    }
   ],
   "source": [
    "Vec2D(1, 2.3)"
   ]
  },
  {
   "cell_type": "markdown",
   "metadata": {},
   "source": [
    "Ahora, queremos *definir* operaciones que involucren varibles tipo `Vec2D`, en particular la suma:"
   ]
  },
  {
   "cell_type": "code",
   "execution_count": 65,
   "metadata": {
    "collapsed": false
   },
   "outputs": [
    {
     "ename": "LoadError",
     "evalue": "LoadError: MethodError: `+` has no method matching +(::Vec2D{Int64}, ::Vec2D{Int64})\nClosest candidates are:\n  +(::Any, ::Any, !Matched::Any, !Matched::Any...)\nwhile loading In[65], in expression starting on line 1",
     "output_type": "error",
     "traceback": [
      "LoadError: MethodError: `+` has no method matching +(::Vec2D{Int64}, ::Vec2D{Int64})\nClosest candidates are:\n  +(::Any, ::Any, !Matched::Any, !Matched::Any...)\nwhile loading In[65], in expression starting on line 1",
      ""
     ]
    }
   ],
   "source": [
    "Vec2D(1,2) + Vec2D(0,3)"
   ]
  },
  {
   "cell_type": "code",
   "execution_count": 66,
   "metadata": {
    "collapsed": false
   },
   "outputs": [
    {
     "data": {
      "text/plain": [
       "+ (generic function with 150 methods)"
      ]
     },
     "execution_count": 66,
     "metadata": {},
     "output_type": "execute_result"
    }
   ],
   "source": [
    "# Lo primero sirve para *no* sobreescribir el operador `+` arbitrariamente\n",
    "import Base.+\n",
    "\n",
    "# ... y aquí se implementa la nueva función\n",
    "+(a::Vec2D, b::Vec2D) = Vec2D( a.x + b.x, a.y + b.y )"
   ]
  },
  {
   "cell_type": "markdown",
   "metadata": {},
   "source": [
    "**NOTA** No es necesario que la parte derecha incluya el mismo operador; puede corresponder a cualquier locura que se les ocurra..."
   ]
  },
  {
   "cell_type": "code",
   "execution_count": 67,
   "metadata": {
    "collapsed": false
   },
   "outputs": [
    {
     "data": {
      "text/plain": [
       "Vec2D{Int64}(1,5)"
      ]
     },
     "execution_count": 67,
     "metadata": {},
     "output_type": "execute_result"
    }
   ],
   "source": [
    "Vec2D(1,2) + Vec2D(0,3)"
   ]
  },
  {
   "cell_type": "code",
   "execution_count": 68,
   "metadata": {
    "collapsed": false
   },
   "outputs": [
    {
     "data": {
      "text/plain": [
       "Vec2D{Float64}(0.0,5.2)"
      ]
     },
     "execution_count": 68,
     "metadata": {},
     "output_type": "execute_result"
    }
   ],
   "source": [
    "Vec2D(1,2.2) + Vec2D(-1,3)"
   ]
  },
  {
   "cell_type": "code",
   "execution_count": 70,
   "metadata": {
    "collapsed": false
   },
   "outputs": [
    {
     "data": {
      "text/plain": [
       "3"
      ]
     },
     "execution_count": 70,
     "metadata": {},
     "output_type": "execute_result"
    }
   ],
   "source": [
    "+3"
   ]
  },
  {
   "cell_type": "code",
   "execution_count": 72,
   "metadata": {
    "collapsed": false
   },
   "outputs": [
    {
     "data": {
      "text/plain": [
       "+ (generic function with 151 methods)"
      ]
     },
     "execution_count": 72,
     "metadata": {},
     "output_type": "execute_result"
    }
   ],
   "source": [
    "+(a::Vec2D) = a"
   ]
  },
  {
   "cell_type": "code",
   "execution_count": 73,
   "metadata": {
    "collapsed": false
   },
   "outputs": [
    {
     "data": {
      "text/plain": [
       "Vec2D{Int64}(-1,3)"
      ]
     },
     "execution_count": 73,
     "metadata": {},
     "output_type": "execute_result"
    }
   ],
   "source": [
    "+ Vec2D(-1,3)"
   ]
  },
  {
   "cell_type": "markdown",
   "metadata": {},
   "source": [
    "De igual manera se pueden definir los otros operadores, o incluso inventar nuevos. Un ejemplo es el siguiente:"
   ]
  },
  {
   "cell_type": "code",
   "execution_count": 74,
   "metadata": {
    "collapsed": false
   },
   "outputs": [
    {
     "data": {
      "text/plain": [
       ".. (generic function with 1 method)"
      ]
     },
     "execution_count": 74,
     "metadata": {},
     "output_type": "execute_result"
    }
   ],
   "source": [
    "..(a::Real, b::Real) = Vec2D(a, b)"
   ]
  },
  {
   "cell_type": "code",
   "execution_count": 75,
   "metadata": {
    "collapsed": false
   },
   "outputs": [
    {
     "data": {
      "text/plain": [
       "Vec2D{Float64}(1.2,3.0)"
      ]
     },
     "execution_count": 75,
     "metadata": {},
     "output_type": "execute_result"
    }
   ],
   "source": [
    "..(1.2,3)"
   ]
  },
  {
   "cell_type": "markdown",
   "metadata": {},
   "source": [
    "Y, lo anterior, en ciertos casos se puede escribir de manera más bonita:"
   ]
  },
  {
   "cell_type": "code",
   "execution_count": 76,
   "metadata": {
    "collapsed": false
   },
   "outputs": [
    {
     "data": {
      "text/plain": [
       "Vec2D{Float64}(1.2,3.0)"
      ]
     },
     "execution_count": 76,
     "metadata": {},
     "output_type": "execute_result"
    }
   ],
   "source": [
    "1.2 .. 3"
   ]
  },
  {
   "cell_type": "code",
   "execution_count": 77,
   "metadata": {
    "collapsed": false
   },
   "outputs": [
    {
     "data": {
      "text/html": [
       "1 method for generic function <b>..</b>:<ul><li> ..(a::<b>Real</b>, b::<b>Real</b>) at In[74]:1</ul>"
      ],
      "text/plain": [
       "# 1 method for generic function \"..\":\n",
       "..(a::Real, b::Real) at In[74]:1"
      ]
     },
     "execution_count": 77,
     "metadata": {},
     "output_type": "execute_result"
    }
   ],
   "source": [
    "methods(..)"
   ]
  },
  {
   "cell_type": "code",
   "execution_count": 78,
   "metadata": {
    "collapsed": false
   },
   "outputs": [
    {
     "data": {
      "text/plain": [
       "* (generic function with 135 methods)"
      ]
     },
     "execution_count": 78,
     "metadata": {},
     "output_type": "execute_result"
    }
   ],
   "source": [
    "import Base.*\n",
    "\n",
    "*(a::Vec2D, b::Vec2D) = Vec2D(a.x, b.y)"
   ]
  },
  {
   "cell_type": "code",
   "execution_count": 80,
   "metadata": {
    "collapsed": false
   },
   "outputs": [
    {
     "name": "stdout",
     "output_type": "stream",
     "text": [
      "Vec2D{Float64}(1.0,2.4)Vec2D{Rational{Int64}}(-6//1,5//1)\n"
     ]
    }
   ],
   "source": [
    "aa = Vec2D(1, 2.4)\n",
    "bb = Vec2D(-6, 5//1)\n",
    "println(aa,bb)"
   ]
  },
  {
   "cell_type": "code",
   "execution_count": 81,
   "metadata": {
    "collapsed": false
   },
   "outputs": [
    {
     "data": {
      "text/plain": [
       "Vec2D{Float64}(1.0,5.0)"
      ]
     },
     "execution_count": 81,
     "metadata": {},
     "output_type": "execute_result"
    }
   ],
   "source": [
    "aa * bb"
   ]
  },
  {
   "cell_type": "code",
   "execution_count": 82,
   "metadata": {
    "collapsed": false
   },
   "outputs": [
    {
     "data": {
      "text/plain": [
       "Vec2D{Float64}(-6.0,2.4)"
      ]
     },
     "execution_count": 82,
     "metadata": {},
     "output_type": "execute_result"
    }
   ],
   "source": [
    "bb * aa"
   ]
  },
  {
   "cell_type": "markdown",
   "metadata": {},
   "source": [
    "En particular, uno puede construir funciones genéricas que, si uno *sobrecarga* los operadores de manera adecuada, puede extender por ejemplo a `Vec2D`."
   ]
  },
  {
   "cell_type": "code",
   "execution_count": 83,
   "metadata": {
    "collapsed": false
   },
   "outputs": [
    {
     "data": {
      "text/plain": [
       "f (generic function with 1 method)"
      ]
     },
     "execution_count": 83,
     "metadata": {},
     "output_type": "execute_result"
    }
   ],
   "source": [
    "f(x, y) = 2x + y"
   ]
  },
  {
   "cell_type": "code",
   "execution_count": 84,
   "metadata": {
    "collapsed": false
   },
   "outputs": [
    {
     "data": {
      "text/plain": [
       "7"
      ]
     },
     "execution_count": 84,
     "metadata": {},
     "output_type": "execute_result"
    }
   ],
   "source": [
    "f(2,3)"
   ]
  },
  {
   "cell_type": "code",
   "execution_count": 85,
   "metadata": {
    "collapsed": false
   },
   "outputs": [
    {
     "ename": "LoadError",
     "evalue": "LoadError: MethodError: `*` has no method matching *(::Int64, ::Vec2D{Float64})\nClosest candidates are:\n  *(::Any, ::Any, !Matched::Any, !Matched::Any...)\n  *(::Real, !Matched::Complex{T<:Real})\n  *{N}(::Integer, !Matched::Base.IteratorsMD.CartesianIndex{N})\n  ...\nwhile loading In[85], in expression starting on line 1",
     "output_type": "error",
     "traceback": [
      "LoadError: MethodError: `*` has no method matching *(::Int64, ::Vec2D{Float64})\nClosest candidates are:\n  *(::Any, ::Any, !Matched::Any, !Matched::Any...)\n  *(::Real, !Matched::Complex{T<:Real})\n  *{N}(::Integer, !Matched::Base.IteratorsMD.CartesianIndex{N})\n  ...\nwhile loading In[85], in expression starting on line 1",
      "",
      " in f at In[83]:1"
     ]
    }
   ],
   "source": [
    "f(aa, bb)"
   ]
  },
  {
   "cell_type": "code",
   "execution_count": null,
   "metadata": {
    "collapsed": true
   },
   "outputs": [],
   "source": [
    "#Vec2D(a) = Vec2D(a, -a)"
   ]
  },
  {
   "cell_type": "code",
   "execution_count": 88,
   "metadata": {
    "collapsed": false
   },
   "outputs": [
    {
     "data": {
      "text/plain": [
       "* (generic function with 137 methods)"
      ]
     },
     "execution_count": 88,
     "metadata": {},
     "output_type": "execute_result"
    }
   ],
   "source": [
    "*(a::Real, b::Vec2D) = Vec2D(a*b.x, a*b.y)\n",
    "*(b::Vec2D, a::Real) = a*b"
   ]
  },
  {
   "cell_type": "code",
   "execution_count": 89,
   "metadata": {
    "collapsed": false
   },
   "outputs": [
    {
     "data": {
      "text/plain": [
       "Vec2D{Float64}(-4.0,9.8)"
      ]
     },
     "execution_count": 89,
     "metadata": {},
     "output_type": "execute_result"
    }
   ],
   "source": [
    "f(aa, bb)"
   ]
  },
  {
   "cell_type": "code",
   "execution_count": 92,
   "metadata": {
    "collapsed": false
   },
   "outputs": [
    {
     "ename": "LoadError",
     "evalue": "LoadError: MethodError: `+` has no method matching +(::ASCIIString, ::ASCIIString)\nClosest candidates are:\n  +(::Any, ::Any, !Matched::Any, !Matched::Any...)\nwhile loading In[92], in expression starting on line 1",
     "output_type": "error",
     "traceback": [
      "LoadError: MethodError: `+` has no method matching +(::ASCIIString, ::ASCIIString)\nClosest candidates are:\n  +(::Any, ::Any, !Matched::Any, !Matched::Any...)\nwhile loading In[92], in expression starting on line 1",
      ""
     ]
    }
   ],
   "source": [
    "\"perro\" + \"gato\""
   ]
  },
  {
   "cell_type": "code",
   "execution_count": null,
   "metadata": {
    "collapsed": true
   },
   "outputs": [],
   "source": []
  }
 ],
 "metadata": {
  "kernelspec": {
   "display_name": "Julia 0.4.0-dev",
   "language": "julia",
   "name": "julia-0.4"
  },
  "language_info": {
   "name": "julia",
   "version": "0.4.0"
  }
 },
 "nbformat": 4,
 "nbformat_minor": 0
}
